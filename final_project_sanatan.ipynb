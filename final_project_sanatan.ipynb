{
  "cells": [
    {
      "cell_type": "markdown",
      "metadata": {
        "id": "view-in-github",
        "colab_type": "text"
      },
      "source": [
        "<a href=\"https://colab.research.google.com/github/Sanatan-Shrivastava/Certificates/blob/main/final_project_sanatan.ipynb\" target=\"_parent\"><img src=\"https://colab.research.google.com/assets/colab-badge.svg\" alt=\"Open In Colab\"/></a>"
      ]
    },
    {
      "cell_type": "markdown",
      "metadata": {
        "id": "v4FUY-CwXyMj"
      },
      "source": [
        "\n",
        "# CS 6375 : Machine Learning Project\n",
        "\n",
        "### Notebook for the Machine Learning Project, **\"Prediction of Cardiac Disorders using Machine Learning\"**"
      ]
    },
    {
      "cell_type": "code",
      "execution_count": null,
      "metadata": {
        "id": "jAHlK6OBlaNl"
      },
      "outputs": [],
      "source": [
        "# import generic python libraries for pre-processing\n",
        "\n",
        "# import numpy for mathematical caluclation, and linear algebra routines.\n",
        "import numpy as np\n",
        "\n",
        "# since boston housing dataset is a part of sklearn, import sklearn to load data\n",
        "# Please NOTE : Since this notebook simulates Linear Regression from scratch, linear_regression() from sklearn will NOT be used.\n",
        "import sklearn\n",
        "\n",
        "# Pandas is for pre-processing (I/O); to read data etc.\n",
        "import pandas as pd\n",
        "\n",
        "import requests\n",
        "import io\n",
        "\n",
        "# To visualize data\n",
        "import matplotlib.pyplot as plt\n",
        "\n",
        "# Seaborn is another python library based on 'matplotlib' to visualize data.\n",
        "import seaborn as sns\n",
        "\n",
        "# With '%matplotlib', the ouput of plotting is displated inline within the jupyter notebook; right below the code cell in specific.\n",
        "%matplotlib inline\n",
        "\n",
        "from collections import Counter"
      ]
    },
    {
      "cell_type": "markdown",
      "metadata": {
        "id": "3gm215YflsE2"
      },
      "source": [
        "Importing the dataset ('heartuci.csv' - Consists of UCI heart dataset and another dataset; all values are unique)"
      ]
    },
    {
      "cell_type": "code",
      "execution_count": null,
      "metadata": {
        "colab": {
          "base_uri": "https://localhost:8080/"
        },
        "id": "5WoFwfrvlcgn",
        "outputId": "142c0144-35d5-4683-90af-6faa3da4cfe3"
      },
      "outputs": [
        {
          "output_type": "stream",
          "name": "stderr",
          "text": [
            "/usr/local/lib/python3.8/dist-packages/IPython/core/interactiveshell.py:3326: FutureWarning: The error_bad_lines argument has been deprecated and will be removed in a future version.\n",
            "\n",
            "\n",
            "  exec(code_obj, self.user_global_ns, self.user_ns)\n"
          ]
        }
      ],
      "source": [
        "# read_csv() that retrieves data in the form of the Dataframe\n",
        "# importing pandas to access read_csv() method\n",
        "\n",
        "url = \"https://raw.githubusercontent.com/Sanatan-Shrivastava/Final_Project_6375-Sanatan/main/heart.csv?token=GHSAT0AAAAAABZMBEC5WD3U2A2NOFYFQ6SUY4WXNNQ\"\n",
        "download = requests.get(url).content\n",
        "dataset = pd.read_csv(io.StringIO(download.decode('utf-8')), error_bad_lines=False)"
      ]
    },
    {
      "cell_type": "markdown",
      "metadata": {
        "id": "6x5VPCxAmuty"
      },
      "source": [
        "Analyzing the Dataset\n",
        "---\n"
      ]
    },
    {
      "cell_type": "code",
      "execution_count": null,
      "metadata": {
        "colab": {
          "base_uri": "https://localhost:8080/"
        },
        "id": "art82pcXm489",
        "outputId": "66d22928-08f3-44b9-8d88-a5972d5e374a"
      },
      "outputs": [
        {
          "output_type": "execute_result",
          "data": {
            "text/plain": [
              "(303, 14)"
            ]
          },
          "metadata": {},
          "execution_count": 62
        }
      ],
      "source": [
        "# let us understand the 'type' of our dataset;\n",
        "# We shall already know that we have defined dataset as type 'Dataframe'\n",
        "type(dataset)\n",
        "\n",
        "# Shape of the dataset; 'shape' attribute helps us understand the dimensions of the dataset (number of rows, number of columns).\n",
        "dataset.shape"
      ]
    },
    {
      "cell_type": "markdown",
      "metadata": {
        "id": "WJNIx-fHEY_E"
      },
      "source": [
        "Sample of the dataset can be printed either by using head(k) function that prints the top 'k' rows or by using sample(k) which prints the random 'k' rows out the entire dataset."
      ]
    },
    {
      "cell_type": "code",
      "execution_count": null,
      "metadata": {
        "colab": {
          "base_uri": "https://localhost:8080/",
          "height": 206
        },
        "id": "KAgcdfhHnK9o",
        "outputId": "91a2edcf-56fa-4c8d-f50e-54f267e808c3"
      },
      "outputs": [
        {
          "output_type": "execute_result",
          "data": {
            "text/plain": [
              "   age  sex  cp  trestbps  chol  fbs  restecg  thalach  exang  oldpeak  slope  \\\n",
              "0   63    1   3       145   233    1        0      150      0      2.3      0   \n",
              "1   37    1   2       130   250    0        1      187      0      3.5      0   \n",
              "2   41    0   1       130   204    0        0      172      0      1.4      2   \n",
              "3   56    1   1       120   236    0        1      178      0      0.8      2   \n",
              "4   57    0   0       120   354    0        1      163      1      0.6      2   \n",
              "\n",
              "   ca  thal  target  \n",
              "0   0     1       1  \n",
              "1   0     2       1  \n",
              "2   0     2       1  \n",
              "3   0     2       1  \n",
              "4   0     2       1  "
            ],
            "text/html": [
              "\n",
              "  <div id=\"df-08d32211-6caf-4443-bf42-73ed403b4924\">\n",
              "    <div class=\"colab-df-container\">\n",
              "      <div>\n",
              "<style scoped>\n",
              "    .dataframe tbody tr th:only-of-type {\n",
              "        vertical-align: middle;\n",
              "    }\n",
              "\n",
              "    .dataframe tbody tr th {\n",
              "        vertical-align: top;\n",
              "    }\n",
              "\n",
              "    .dataframe thead th {\n",
              "        text-align: right;\n",
              "    }\n",
              "</style>\n",
              "<table border=\"1\" class=\"dataframe\">\n",
              "  <thead>\n",
              "    <tr style=\"text-align: right;\">\n",
              "      <th></th>\n",
              "      <th>age</th>\n",
              "      <th>sex</th>\n",
              "      <th>cp</th>\n",
              "      <th>trestbps</th>\n",
              "      <th>chol</th>\n",
              "      <th>fbs</th>\n",
              "      <th>restecg</th>\n",
              "      <th>thalach</th>\n",
              "      <th>exang</th>\n",
              "      <th>oldpeak</th>\n",
              "      <th>slope</th>\n",
              "      <th>ca</th>\n",
              "      <th>thal</th>\n",
              "      <th>target</th>\n",
              "    </tr>\n",
              "  </thead>\n",
              "  <tbody>\n",
              "    <tr>\n",
              "      <th>0</th>\n",
              "      <td>63</td>\n",
              "      <td>1</td>\n",
              "      <td>3</td>\n",
              "      <td>145</td>\n",
              "      <td>233</td>\n",
              "      <td>1</td>\n",
              "      <td>0</td>\n",
              "      <td>150</td>\n",
              "      <td>0</td>\n",
              "      <td>2.3</td>\n",
              "      <td>0</td>\n",
              "      <td>0</td>\n",
              "      <td>1</td>\n",
              "      <td>1</td>\n",
              "    </tr>\n",
              "    <tr>\n",
              "      <th>1</th>\n",
              "      <td>37</td>\n",
              "      <td>1</td>\n",
              "      <td>2</td>\n",
              "      <td>130</td>\n",
              "      <td>250</td>\n",
              "      <td>0</td>\n",
              "      <td>1</td>\n",
              "      <td>187</td>\n",
              "      <td>0</td>\n",
              "      <td>3.5</td>\n",
              "      <td>0</td>\n",
              "      <td>0</td>\n",
              "      <td>2</td>\n",
              "      <td>1</td>\n",
              "    </tr>\n",
              "    <tr>\n",
              "      <th>2</th>\n",
              "      <td>41</td>\n",
              "      <td>0</td>\n",
              "      <td>1</td>\n",
              "      <td>130</td>\n",
              "      <td>204</td>\n",
              "      <td>0</td>\n",
              "      <td>0</td>\n",
              "      <td>172</td>\n",
              "      <td>0</td>\n",
              "      <td>1.4</td>\n",
              "      <td>2</td>\n",
              "      <td>0</td>\n",
              "      <td>2</td>\n",
              "      <td>1</td>\n",
              "    </tr>\n",
              "    <tr>\n",
              "      <th>3</th>\n",
              "      <td>56</td>\n",
              "      <td>1</td>\n",
              "      <td>1</td>\n",
              "      <td>120</td>\n",
              "      <td>236</td>\n",
              "      <td>0</td>\n",
              "      <td>1</td>\n",
              "      <td>178</td>\n",
              "      <td>0</td>\n",
              "      <td>0.8</td>\n",
              "      <td>2</td>\n",
              "      <td>0</td>\n",
              "      <td>2</td>\n",
              "      <td>1</td>\n",
              "    </tr>\n",
              "    <tr>\n",
              "      <th>4</th>\n",
              "      <td>57</td>\n",
              "      <td>0</td>\n",
              "      <td>0</td>\n",
              "      <td>120</td>\n",
              "      <td>354</td>\n",
              "      <td>0</td>\n",
              "      <td>1</td>\n",
              "      <td>163</td>\n",
              "      <td>1</td>\n",
              "      <td>0.6</td>\n",
              "      <td>2</td>\n",
              "      <td>0</td>\n",
              "      <td>2</td>\n",
              "      <td>1</td>\n",
              "    </tr>\n",
              "  </tbody>\n",
              "</table>\n",
              "</div>\n",
              "      <button class=\"colab-df-convert\" onclick=\"convertToInteractive('df-08d32211-6caf-4443-bf42-73ed403b4924')\"\n",
              "              title=\"Convert this dataframe to an interactive table.\"\n",
              "              style=\"display:none;\">\n",
              "        \n",
              "  <svg xmlns=\"http://www.w3.org/2000/svg\" height=\"24px\"viewBox=\"0 0 24 24\"\n",
              "       width=\"24px\">\n",
              "    <path d=\"M0 0h24v24H0V0z\" fill=\"none\"/>\n",
              "    <path d=\"M18.56 5.44l.94 2.06.94-2.06 2.06-.94-2.06-.94-.94-2.06-.94 2.06-2.06.94zm-11 1L8.5 8.5l.94-2.06 2.06-.94-2.06-.94L8.5 2.5l-.94 2.06-2.06.94zm10 10l.94 2.06.94-2.06 2.06-.94-2.06-.94-.94-2.06-.94 2.06-2.06.94z\"/><path d=\"M17.41 7.96l-1.37-1.37c-.4-.4-.92-.59-1.43-.59-.52 0-1.04.2-1.43.59L10.3 9.45l-7.72 7.72c-.78.78-.78 2.05 0 2.83L4 21.41c.39.39.9.59 1.41.59.51 0 1.02-.2 1.41-.59l7.78-7.78 2.81-2.81c.8-.78.8-2.07 0-2.86zM5.41 20L4 18.59l7.72-7.72 1.47 1.35L5.41 20z\"/>\n",
              "  </svg>\n",
              "      </button>\n",
              "      \n",
              "  <style>\n",
              "    .colab-df-container {\n",
              "      display:flex;\n",
              "      flex-wrap:wrap;\n",
              "      gap: 12px;\n",
              "    }\n",
              "\n",
              "    .colab-df-convert {\n",
              "      background-color: #E8F0FE;\n",
              "      border: none;\n",
              "      border-radius: 50%;\n",
              "      cursor: pointer;\n",
              "      display: none;\n",
              "      fill: #1967D2;\n",
              "      height: 32px;\n",
              "      padding: 0 0 0 0;\n",
              "      width: 32px;\n",
              "    }\n",
              "\n",
              "    .colab-df-convert:hover {\n",
              "      background-color: #E2EBFA;\n",
              "      box-shadow: 0px 1px 2px rgba(60, 64, 67, 0.3), 0px 1px 3px 1px rgba(60, 64, 67, 0.15);\n",
              "      fill: #174EA6;\n",
              "    }\n",
              "\n",
              "    [theme=dark] .colab-df-convert {\n",
              "      background-color: #3B4455;\n",
              "      fill: #D2E3FC;\n",
              "    }\n",
              "\n",
              "    [theme=dark] .colab-df-convert:hover {\n",
              "      background-color: #434B5C;\n",
              "      box-shadow: 0px 1px 3px 1px rgba(0, 0, 0, 0.15);\n",
              "      filter: drop-shadow(0px 1px 2px rgba(0, 0, 0, 0.3));\n",
              "      fill: #FFFFFF;\n",
              "    }\n",
              "  </style>\n",
              "\n",
              "      <script>\n",
              "        const buttonEl =\n",
              "          document.querySelector('#df-08d32211-6caf-4443-bf42-73ed403b4924 button.colab-df-convert');\n",
              "        buttonEl.style.display =\n",
              "          google.colab.kernel.accessAllowed ? 'block' : 'none';\n",
              "\n",
              "        async function convertToInteractive(key) {\n",
              "          const element = document.querySelector('#df-08d32211-6caf-4443-bf42-73ed403b4924');\n",
              "          const dataTable =\n",
              "            await google.colab.kernel.invokeFunction('convertToInteractive',\n",
              "                                                     [key], {});\n",
              "          if (!dataTable) return;\n",
              "\n",
              "          const docLinkHtml = 'Like what you see? Visit the ' +\n",
              "            '<a target=\"_blank\" href=https://colab.research.google.com/notebooks/data_table.ipynb>data table notebook</a>'\n",
              "            + ' to learn more about interactive tables.';\n",
              "          element.innerHTML = '';\n",
              "          dataTable['output_type'] = 'display_data';\n",
              "          await google.colab.output.renderOutput(dataTable, element);\n",
              "          const docLink = document.createElement('div');\n",
              "          docLink.innerHTML = docLinkHtml;\n",
              "          element.appendChild(docLink);\n",
              "        }\n",
              "      </script>\n",
              "    </div>\n",
              "  </div>\n",
              "  "
            ]
          },
          "metadata": {},
          "execution_count": 63
        }
      ],
      "source": [
        "# printing the top 5 rows from the dataset\n",
        "dataset.head(5)"
      ]
    },
    {
      "cell_type": "markdown",
      "metadata": {
        "id": "jYv3jFB9BpC4"
      },
      "source": [
        "Dataframe description\n",
        "---\n",
        "\n",
        "Description of the dataset: The detailed description of the dataset can be found in the project report.\n",
        "Description of the dataframe:\n",
        "The DataFrame's data is described via the **describe()** method.\n",
        "\n",
        "If the DataFrame includes numerical data, each column's description will provide the following details:\n",
        "1. count - The number of not-empty values.\n",
        "2. mean - The average (mean) value.\n",
        "3. std - The standard deviation.\n",
        "4. min - the minimum value.\n",
        "5. 25% - The 25% percentile*.\n",
        "6. 50% - The 50% percentile*.\n",
        "7. 75% - The 75% percentile*.\n",
        "8. max - the maximum value."
      ]
    },
    {
      "cell_type": "code",
      "execution_count": null,
      "metadata": {
        "colab": {
          "base_uri": "https://localhost:8080/"
        },
        "id": "KWRrC78NCrnC",
        "outputId": "b968a7dc-b34d-41bb-8c93-6fae2bb23e34"
      },
      "outputs": [
        {
          "output_type": "stream",
          "name": "stdout",
          "text": [
            "              age         sex          cp    trestbps        chol         fbs  \\\n",
            "count  303.000000  303.000000  303.000000  303.000000  303.000000  303.000000   \n",
            "mean    54.366337    0.683168    0.966997  131.623762  246.264026    0.148515   \n",
            "std      9.082101    0.466011    1.032052   17.538143   51.830751    0.356198   \n",
            "min     29.000000    0.000000    0.000000   94.000000  126.000000    0.000000   \n",
            "25%     47.500000    0.000000    0.000000  120.000000  211.000000    0.000000   \n",
            "50%     55.000000    1.000000    1.000000  130.000000  240.000000    0.000000   \n",
            "75%     61.000000    1.000000    2.000000  140.000000  274.500000    0.000000   \n",
            "max     77.000000    1.000000    3.000000  200.000000  564.000000    1.000000   \n",
            "\n",
            "          restecg     thalach       exang     oldpeak       slope          ca  \\\n",
            "count  303.000000  303.000000  303.000000  303.000000  303.000000  303.000000   \n",
            "mean     0.528053  149.646865    0.326733    1.039604    1.399340    0.729373   \n",
            "std      0.525860   22.905161    0.469794    1.161075    0.616226    1.022606   \n",
            "min      0.000000   71.000000    0.000000    0.000000    0.000000    0.000000   \n",
            "25%      0.000000  133.500000    0.000000    0.000000    1.000000    0.000000   \n",
            "50%      1.000000  153.000000    0.000000    0.800000    1.000000    0.000000   \n",
            "75%      1.000000  166.000000    1.000000    1.600000    2.000000    1.000000   \n",
            "max      2.000000  202.000000    1.000000    6.200000    2.000000    4.000000   \n",
            "\n",
            "             thal      target  \n",
            "count  303.000000  303.000000  \n",
            "mean     2.313531    0.544554  \n",
            "std      0.612277    0.498835  \n",
            "min      0.000000    0.000000  \n",
            "25%      2.000000    0.000000  \n",
            "50%      2.000000    1.000000  \n",
            "75%      3.000000    1.000000  \n",
            "max      3.000000    1.000000  \n"
          ]
        }
      ],
      "source": [
        "# describing the dataframe\n",
        "df_description = dataset.describe()\n",
        "print(df_description);"
      ]
    },
    {
      "cell_type": "markdown",
      "metadata": {
        "id": "biUvNGuUDadO"
      },
      "source": [
        "The features/attributes that are being used here are as follows:\n",
        "1. **age**: Person’s age\n",
        "2. **sex**: gender of the person (1=male; 0=female)\n",
        "3. **cp**: chest pain type (more details in the project report)\n",
        "4. **trestbps**: resting blood pressure\n",
        "5. **chol**: Cholesterol level in the blood in mg/dl\n",
        "6. **fbs**: fasting blood sugar level > 120 ml (1 = true; 0 = false)\n",
        "7. **restecg**: ecg (electrocardiogram) value at resting\n",
        "8. **thalach**: maximum heartrate\n",
        "9. **exang**: exercise induced angina (pain) (1 = true; 0 = false)\n",
        "10.  **oldpeak**: ST depression induced by exercise relative to rest\n",
        "11.  **slope**: slope of peak exercise against ST\n",
        "12.  **ca**: number of major vessels colored by fluoroscopy\n",
        "13.  **thal**: blood disorder called thalassemia (3 = normal; 6 = fixed defect; 7 = reversable defect)\n",
        "14.  **num**: Predicted heart diagnosis (1 = true, 0 = false)\n",
        "\n",
        "More details can be found at: https://archive.ics.uci.edu/ml/datasets/heart+Disease [Official Dataset of UCI repository]"
      ]
    },
    {
      "cell_type": "code",
      "execution_count": null,
      "metadata": {
        "colab": {
          "base_uri": "https://localhost:8080/"
        },
        "id": "Rcgpm9FVUIXW",
        "outputId": "d76a8df9-ac32-4570-81a5-6b4f88763d09"
      },
      "outputs": [
        {
          "output_type": "stream",
          "name": "stdout",
          "text": [
            "age:\t\t\tage\n",
            "sex:\t\t\t1: male, 0: female\n",
            "cp:\t\t\tchest pain type, 1: typical angina, 2: atypical angina, 3: non-anginal pain, 4: asymptomatic\n",
            "trestbps:\t\t\tresting blood pressure\n",
            "chol:\t\t\t serum cholestoral in mg/dl\n",
            "fbs:\t\t\tfasting blood sugar > 120 mg/dl\n",
            "restecg:\t\t\tresting electrocardiographic results (values 0,1,2)\n",
            "thalach:\t\t\t maximum heart rate achieved\n",
            "exang:\t\t\texercise induced angina\n",
            "oldpeak:\t\t\toldpeak = ST depression induced by exercise relative to rest\n",
            "slope:\t\t\tthe slope of the peak exercise ST segment\n",
            "ca:\t\t\tnumber of major vessels (0-3) colored by flourosopy\n",
            "thal:\t\t\tthal: 3 = normal; 6 = fixed defect; 7 = reversable defect\n"
          ]
        }
      ],
      "source": [
        "info = [\"age\",\"1: male, 0: female\",\"chest pain type, 1: typical angina, 2: atypical angina, 3: non-anginal pain, 4: asymptomatic\",\"resting blood pressure\",\" serum cholestoral in mg/dl\",\"fasting blood sugar > 120 mg/dl\",\"resting electrocardiographic results (values 0,1,2)\",\" maximum heart rate achieved\",\"exercise induced angina\",\"oldpeak = ST depression induced by exercise relative to rest\",\"the slope of the peak exercise ST segment\",\"number of major vessels (0-3) colored by flourosopy\",\"thal: 3 = normal; 6 = fixed defect; 7 = reversable defect\"]\n",
        "\n",
        "for i in range(len(info)):\n",
        "    print(dataset.columns[i]+\":\\t\\t\\t\"+info[i])"
      ]
    },
    {
      "cell_type": "markdown",
      "metadata": {
        "id": "vA64fLGCXbxC"
      },
      "source": [
        "Analysis of the target variable\n",
        "---\n",
        "\n",
        "The aspect of a dataset that you want to comprehend better is the **target variable**. The user would want to predict this variable using the rest of the dataset.\n",
        "\n",
        "Let us understand the target variable and the description of the target dataframe.\n",
        "Similar to above, we will use describe() to fetch the description of the 'target' description."
      ]
    },
    {
      "cell_type": "code",
      "execution_count": null,
      "metadata": {
        "colab": {
          "base_uri": "https://localhost:8080/"
        },
        "id": "JdNBkGuHXHBJ",
        "outputId": "38454514-8124-4af7-b592-ce6e095258c5"
      },
      "outputs": [
        {
          "output_type": "execute_result",
          "data": {
            "text/plain": [
              "count    303.000000\n",
              "mean       0.544554\n",
              "std        0.498835\n",
              "min        0.000000\n",
              "25%        0.000000\n",
              "50%        1.000000\n",
              "75%        1.000000\n",
              "max        1.000000\n",
              "Name: target, dtype: float64"
            ]
          },
          "metadata": {},
          "execution_count": 66
        }
      ],
      "source": [
        "dataset[\"target\"].describe()\n",
        "\n",
        "# On the basis of this, we will be drawing comparison on the rest of the values in the dataset."
      ]
    },
    {
      "cell_type": "markdown",
      "metadata": {
        "id": "I1KLAt1sYmvy"
      },
      "source": [
        "To understand if this is a classification problem or a regression problem, we can observe the number of values OR the range of the target variable.\n",
        "\n",
        "If there are two values, then we can percieve the rest of the problem as the classification problem."
      ]
    },
    {
      "cell_type": "code",
      "execution_count": null,
      "metadata": {
        "colab": {
          "base_uri": "https://localhost:8080/"
        },
        "id": "QGACs2EhYyku",
        "outputId": "5aa5058e-b522-4e08-96b8-379b2cc3c0f9"
      },
      "outputs": [
        {
          "output_type": "stream",
          "name": "stdout",
          "text": [
            "The number of unique values in 'target' on this dataset is:  2\n",
            "The unique values in 'target' on this dataset is:  [1 0]\n"
          ]
        }
      ],
      "source": [
        "unique_target_values = dataset[\"target\"].unique()\n",
        "print(\"The number of unique values in 'target' on this dataset is: \", len(unique_target_values))\n",
        "print(\"The unique values in 'target' on this dataset is: \", unique_target_values)\n",
        "\n",
        "# Thus it is clear that this is a classification problem, as expected."
      ]
    },
    {
      "cell_type": "markdown",
      "metadata": {
        "id": "NMyx3jHwZrD5"
      },
      "source": [
        "Correlation between the features:\n",
        "-----\n",
        "\n",
        "Here, let us understand the correlation between the features and the extent to which they are coorelated to the target variable.\n",
        "Important thing to note that the correlaton is based purely on the magnitude and not the sign of the attribute.\n",
        "\n",
        "For this purpose, we are using the Pandas' **.corr()** function to determine the pairwise correlation of all columns in a given dataframe.\n",
        "Even though we have a dataset which has been pre-processed to remove any noise, please note, Any NaN values are immediately disregarded.\n",
        "The Dataframe ignores any columns or data types that are not numeric."
      ]
    },
    {
      "cell_type": "code",
      "execution_count": null,
      "metadata": {
        "colab": {
          "base_uri": "https://localhost:8080/"
        },
        "id": "kqpxM-8AZpgK",
        "outputId": "993d5679-88e9-443b-e22c-d4c9d8695424"
      },
      "outputs": [
        {
          "output_type": "execute_result",
          "data": {
            "text/plain": [
              "target      1.000000\n",
              "exang       0.436757\n",
              "cp          0.433798\n",
              "oldpeak     0.430696\n",
              "thalach     0.421741\n",
              "ca          0.391724\n",
              "slope       0.345877\n",
              "thal        0.344029\n",
              "sex         0.280937\n",
              "age         0.225439\n",
              "trestbps    0.144931\n",
              "restecg     0.137230\n",
              "chol        0.085239\n",
              "fbs         0.028046\n",
              "Name: target, dtype: float64"
            ]
          },
          "metadata": {},
          "execution_count": 68
        }
      ],
      "source": [
        "corr_values = dataset.corr()[\"target\"]\n",
        "\n",
        "# removing sign if any : using .abs() function; some features do negatively correlate to the 'target' feature.\n",
        "corr_values = corr_values.abs()\n",
        "\n",
        "# sorting values in descending order to rank the features in their correlation to the target; for this we will use .sort_values() function\n",
        "corr_values.sort_values(ascending=False)"
      ]
    },
    {
      "cell_type": "markdown",
      "metadata": {
        "id": "AVo4a2vRcw34"
      },
      "source": [
        "## Correlation Matrix\n",
        "\n",
        "Here, post understanding the correlation between the features, let us visualize this correlation with the help of a **heatmap** using seaborn and Matplotlib."
      ]
    },
    {
      "cell_type": "code",
      "execution_count": null,
      "metadata": {
        "id": "ExahZ_vTfWY1",
        "colab": {
          "base_uri": "https://localhost:8080/",
          "height": 1000
        },
        "outputId": "60597cf9-236a-4345-cf75-9114bd840ef0"
      },
      "outputs": [
        {
          "output_type": "stream",
          "name": "stderr",
          "text": [
            "/usr/local/lib/python3.8/dist-packages/seaborn/distributions.py:2619: FutureWarning: `distplot` is a deprecated function and will be removed in a future version. Please adapt your code to use either `displot` (a figure-level function with similar flexibility) or `histplot` (an axes-level function for histograms).\n",
            "  warnings.warn(msg, FutureWarning)\n"
          ]
        },
        {
          "output_type": "display_data",
          "data": {
            "text/plain": [
              "<Figure size 842.4x595.44 with 1 Axes>"
            ],
            "image/png": "[encoded data removed]"
          },
          "metadata": {}
        },
        {
          "output_type": "execute_result",
          "data": {
            "text/plain": [
              "<matplotlib.axes._subplots.AxesSubplot at 0x7f56961c7460>"
            ]
          },
          "metadata": {},
          "execution_count": 104
        },
        {
          "output_type": "display_data",
          "data": {
            "text/plain": [
              "<Figure size 842.4x595.44 with 2 Axes>"
            ],
            "image/png": "[encoded data removed]"
          },
          "metadata": {}
        }
      ],
      "source": [
        "# Printing the entire correlation matrix (Confusion matrix)\n",
        "sns.set(rc={'figure.figsize':(11.7,8.27)})\n",
        "sns.distplot(dataset, bins=14)\n",
        "plt.show()\n",
        "\n",
        "# Finally, let us get the correlation matrix\n",
        "correlation_matrix = dataset.corr().round(2)\n",
        "# annot = True to print the values inside the square\n",
        "sns.heatmap(data=correlation_matrix, annot=True)"
      ]
    },
    {
      "cell_type": "markdown",
      "metadata": {
        "id": "AZk3Z7TF986h"
      },
      "source": [
        "# **Exploratory Data Analysis:**\n",
        "Exploratory Data Analysis (EDA) is the methodology by which we can analyze and investigate data sets and summarize their main characteristics, often employing data visualization methods. "
      ]
    },
    {
      "cell_type": "code",
      "execution_count": null,
      "metadata": {
        "colab": {
          "base_uri": "https://localhost:8080/",
          "height": 624
        },
        "id": "mQ7mkfF7-pgZ",
        "outputId": "cee11b89-dea1-4ab0-f8af-3bb60bb94ee5"
      },
      "outputs": [
        {
          "output_type": "stream",
          "name": "stderr",
          "text": [
            "/usr/local/lib/python3.8/dist-packages/seaborn/_decorators.py:36: FutureWarning: Pass the following variable as a keyword arg: x. From version 0.12, the only valid positional argument will be `data`, and passing other arguments without an explicit keyword will result in an error or misinterpretation.\n",
            "  warnings.warn(\n"
          ]
        },
        {
          "output_type": "stream",
          "name": "stdout",
          "text": [
            "The count of the instances of target variable is: 1    165\n",
            "0    138\n",
            "Name: target, dtype: int64\n"
          ]
        },
        {
          "output_type": "display_data",
          "data": {
            "text/plain": [
              "<Figure size 842.4x595.44 with 1 Axes>"
            ],
            "image/png": "[encoded data removed]"
          },
          "metadata": {}
        }
      ],
      "source": [
        "# defining a target variable 'y':\n",
        "y = dataset[\"target\"]\n",
        "sns.countplot(y)\n",
        "\n",
        "# counting the instances where the value is '0' or '1':\n",
        "target_instances_count = dataset.target.value_counts()\n",
        "\n",
        "print(\"The count of the instances of target variable is:\", target_instances_count)"
      ]
    },
    {
      "cell_type": "code",
      "execution_count": null,
      "metadata": {
        "colab": {
          "base_uri": "https://localhost:8080/"
        },
        "id": "IlUUVh5mDiYc",
        "outputId": "58743ae3-56cd-4fdf-f926-5e922e6cbfc5"
      },
      "outputs": [
        {
          "output_type": "stream",
          "name": "stdout",
          "text": [
            "Percentage of users without heart problems: 45.54\n",
            "Percentage of users with heart problems: 54.46\n"
          ]
        }
      ],
      "source": [
        "# Let us get the percentage/count of the patients with heart problems:\n",
        "print(\"Percentage of users without heart problems: \"+str(round(target_instances_count[0]*100/303,2)))\n",
        "print(\"Percentage of users with heart problems: \"+str(round(target_instances_count[1]*100/303,2)))\n",
        "\n",
        "countNoDisease = len(dataset[dataset.target == 0])\n",
        "countHaveDisease = len(dataset[dataset.target == 1])"
      ]
    },
    {
      "cell_type": "markdown",
      "metadata": {
        "id": "V95kvI8aIrMa"
      },
      "source": [
        "## **Analysing 'sex', 'cp', 'fbs', 'restecg', 'exang', 'slope', 'ca' and 'thal' features.**"
      ]
    },
    {
      "cell_type": "markdown",
      "metadata": {
        "id": "54nN9-uSJm1n"
      },
      "source": [
        "### **Analysing *'sex'* feature:**"
      ]
    },
    {
      "cell_type": "code",
      "execution_count": null,
      "metadata": {
        "colab": {
          "base_uri": "https://localhost:8080/"
        },
        "id": "nu1lcNxQI41L",
        "outputId": "93c8f8c7-21b6-40f6-917e-26e002963c4a"
      },
      "outputs": [
        {
          "output_type": "execute_result",
          "data": {
            "text/plain": [
              "array([1, 0])"
            ]
          },
          "metadata": {},
          "execution_count": 72
        }
      ],
      "source": [
        "dataset[\"sex\"].unique()"
      ]
    },
    {
      "cell_type": "code",
      "execution_count": null,
      "metadata": {
        "colab": {
          "base_uri": "https://localhost:8080/",
          "height": 141
        },
        "id": "Q6OXp6KlJGhW",
        "outputId": "8ae98c4b-04f9-4da5-f762-e845c202d29b"
      },
      "outputs": [
        {
          "output_type": "stream",
          "name": "stderr",
          "text": [
            "/usr/local/lib/python3.8/dist-packages/seaborn/_decorators.py:36: FutureWarning: Pass the following variables as keyword args: x, y. From version 0.12, the only valid positional argument will be `data`, and passing other arguments without an explicit keyword will result in an error or misinterpretation.\n",
            "  warnings.warn(\n"
          ]
        },
        {
          "output_type": "execute_result",
          "data": {
            "text/plain": [
              "<matplotlib.axes._subplots.AxesSubplot at 0x7f56971816a0>"
            ]
          },
          "metadata": {},
          "execution_count": 73
        },
        {
          "output_type": "display_data",
          "data": {
            "text/plain": [
              "<Figure size 842.4x595.44 with 1 Axes>"
            ],
            "image/png": "[encoded data removed]"
          },
          "metadata": {}
        }
      ],
      "source": [
        "# Barplot of the \"sex\" attribute with respect to the \"target\" variable:\n",
        "sns.barplot(dataset[\"sex\"], y)"
      ]
    },
    {
      "cell_type": "markdown",
      "metadata": {
        "id": "GBo5vwrrJtU-"
      },
      "source": [
        "### **Analysing *'Chest Pain Type'* feature:**"
      ]
    },
    {
      "cell_type": "code",
      "execution_count": null,
      "metadata": {
        "colab": {
          "base_uri": "https://localhost:8080/"
        },
        "id": "ZdgCt5QCJyJG",
        "outputId": "34722de7-e8e4-4e93-ccbc-817ddcb62d9f"
      },
      "outputs": [
        {
          "output_type": "execute_result",
          "data": {
            "text/plain": [
              "array([3, 2, 1, 0])"
            ]
          },
          "metadata": {},
          "execution_count": 74
        }
      ],
      "source": [
        "dataset[\"cp\"].unique()"
      ]
    },
    {
      "cell_type": "code",
      "execution_count": null,
      "metadata": {
        "colab": {
          "base_uri": "https://localhost:8080/",
          "height": 141
        },
        "id": "3TsX11qnJ0ri",
        "outputId": "963c0d30-e6d4-4a41-a1f0-103845581003"
      },
      "outputs": [
        {
          "output_type": "stream",
          "name": "stderr",
          "text": [
            "/usr/local/lib/python3.8/dist-packages/seaborn/_decorators.py:36: FutureWarning: Pass the following variables as keyword args: x, y. From version 0.12, the only valid positional argument will be `data`, and passing other arguments without an explicit keyword will result in an error or misinterpretation.\n",
            "  warnings.warn(\n"
          ]
        },
        {
          "output_type": "execute_result",
          "data": {
            "text/plain": [
              "<matplotlib.axes._subplots.AxesSubplot at 0x7f563b2de100>"
            ]
          },
          "metadata": {},
          "execution_count": 75
        },
        {
          "output_type": "display_data",
          "data": {
            "text/plain": [
              "<Figure size 842.4x595.44 with 1 Axes>"
            ],
            "image/png": "[encoded data removed]"
          },
          "metadata": {}
        }
      ],
      "source": [
        "# Barplot of the \"cp\" (Chest Pain Type) attribute with respect to the \"target\" variable:\n",
        "sns.barplot(dataset[\"cp\"], y)"
      ]
    },
    {
      "cell_type": "markdown",
      "metadata": {
        "id": "RwachMVIJ_Ow"
      },
      "source": [
        "*Note:* that chest pain of '0', i.e. the individuals with 'typical angina' are much less likely to have cardiac problems."
      ]
    },
    {
      "cell_type": "markdown",
      "metadata": {
        "id": "tXd85Br8VJRh"
      },
      "source": [
        "### **Analysing *'FBS'* feature:**"
      ]
    },
    {
      "cell_type": "code",
      "execution_count": null,
      "metadata": {
        "colab": {
          "base_uri": "https://localhost:8080/"
        },
        "id": "SvADv4hgVThv",
        "outputId": "332e0bac-4268-4b34-e12a-c4ed5151a37e"
      },
      "outputs": [
        {
          "output_type": "execute_result",
          "data": {
            "text/plain": [
              "array([1, 0])"
            ]
          },
          "metadata": {},
          "execution_count": 76
        }
      ],
      "source": [
        "dataset[\"fbs\"].unique()"
      ]
    },
    {
      "cell_type": "code",
      "execution_count": null,
      "metadata": {
        "colab": {
          "base_uri": "https://localhost:8080/",
          "height": 141
        },
        "id": "Ad92D8B-Vkpn",
        "outputId": "f068d63b-fe68-4fb5-bcc8-705e7137c164"
      },
      "outputs": [
        {
          "output_type": "stream",
          "name": "stderr",
          "text": [
            "/usr/local/lib/python3.8/dist-packages/seaborn/_decorators.py:36: FutureWarning: Pass the following variables as keyword args: x, y. From version 0.12, the only valid positional argument will be `data`, and passing other arguments without an explicit keyword will result in an error or misinterpretation.\n",
            "  warnings.warn(\n"
          ]
        },
        {
          "output_type": "execute_result",
          "data": {
            "text/plain": [
              "<matplotlib.axes._subplots.AxesSubplot at 0x7f563b236580>"
            ]
          },
          "metadata": {},
          "execution_count": 77
        },
        {
          "output_type": "display_data",
          "data": {
            "text/plain": [
              "<Figure size 842.4x595.44 with 1 Axes>"
            ],
            "image/png": "[encoded data removed]"
          },
          "metadata": {}
        }
      ],
      "source": [
        "# Barplot of the \"fbs\" (Chest Pain Type) attribute with respect to the \"target\" variable:\n",
        "sns.barplot(dataset[\"fbs\"], y)"
      ]
    },
    {
      "cell_type": "markdown",
      "metadata": {
        "id": "DTel1wpdV9QA"
      },
      "source": [
        "### **Analysing *'restecg'* feature:**"
      ]
    },
    {
      "cell_type": "code",
      "execution_count": null,
      "metadata": {
        "colab": {
          "base_uri": "https://localhost:8080/"
        },
        "id": "ViCLFygoV9QC",
        "outputId": "72633469-bcd2-4b7a-ce03-20fc2a2116bd"
      },
      "outputs": [
        {
          "output_type": "execute_result",
          "data": {
            "text/plain": [
              "array([0, 1, 2])"
            ]
          },
          "metadata": {},
          "execution_count": 78
        }
      ],
      "source": [
        "dataset[\"restecg\"].unique()"
      ]
    },
    {
      "cell_type": "code",
      "execution_count": null,
      "metadata": {
        "colab": {
          "base_uri": "https://localhost:8080/",
          "height": 141
        },
        "id": "5VH0HE70V9QD",
        "outputId": "e2e4451a-e666-4da6-a9f2-72d9965e0334"
      },
      "outputs": [
        {
          "output_type": "stream",
          "name": "stderr",
          "text": [
            "/usr/local/lib/python3.8/dist-packages/seaborn/_decorators.py:36: FutureWarning: Pass the following variables as keyword args: x, y. From version 0.12, the only valid positional argument will be `data`, and passing other arguments without an explicit keyword will result in an error or misinterpretation.\n",
            "  warnings.warn(\n"
          ]
        },
        {
          "output_type": "execute_result",
          "data": {
            "text/plain": [
              "<matplotlib.axes._subplots.AxesSubplot at 0x7f563b2036d0>"
            ]
          },
          "metadata": {},
          "execution_count": 79
        },
        {
          "output_type": "display_data",
          "data": {
            "text/plain": [
              "<Figure size 842.4x595.44 with 1 Axes>"
            ],
            "image/png": "[encoded data removed]"
          },
          "metadata": {}
        }
      ],
      "source": [
        "# Barplot of the \"restecg\" (Resting ECG) attribute with respect to the \"target\" variable:\n",
        "sns.barplot(dataset[\"restecg\"], y)"
      ]
    },
    {
      "cell_type": "markdown",
      "metadata": {
        "id": "vbXJ4xpiWXbl"
      },
      "source": [
        "By analysis of this 'restecg' feature, we realize that the individuals with restecg '1' and '0' are much more likely to have a cardiac problem than the individual with restecg '2'."
      ]
    },
    {
      "cell_type": "markdown",
      "metadata": {
        "id": "JyUPY86gWRHg"
      },
      "source": [
        "### **Analysing *'Slope'* feature:**"
      ]
    },
    {
      "cell_type": "code",
      "execution_count": null,
      "metadata": {
        "colab": {
          "base_uri": "https://localhost:8080/"
        },
        "id": "k83wmIGIWRHi",
        "outputId": "5c4c069b-8d7f-4173-e7e0-17885d0f9e77"
      },
      "outputs": [
        {
          "output_type": "execute_result",
          "data": {
            "text/plain": [
              "array([0, 2, 1])"
            ]
          },
          "metadata": {},
          "execution_count": 80
        }
      ],
      "source": [
        "dataset[\"slope\"].unique()"
      ]
    },
    {
      "cell_type": "code",
      "execution_count": null,
      "metadata": {
        "colab": {
          "base_uri": "https://localhost:8080/",
          "height": 141
        },
        "id": "8gGbOl6cWRHk",
        "outputId": "b39924cf-f726-4747-acf8-f58e6683b721"
      },
      "outputs": [
        {
          "output_type": "stream",
          "name": "stderr",
          "text": [
            "/usr/local/lib/python3.8/dist-packages/seaborn/_decorators.py:36: FutureWarning: Pass the following variables as keyword args: x, y. From version 0.12, the only valid positional argument will be `data`, and passing other arguments without an explicit keyword will result in an error or misinterpretation.\n",
            "  warnings.warn(\n"
          ]
        },
        {
          "output_type": "execute_result",
          "data": {
            "text/plain": [
              "<matplotlib.axes._subplots.AxesSubplot at 0x7f563b1b92b0>"
            ]
          },
          "metadata": {},
          "execution_count": 81
        },
        {
          "output_type": "display_data",
          "data": {
            "text/plain": [
              "<Figure size 842.4x595.44 with 1 Axes>"
            ],
            "image/png": "[encoded data removed]"
          },
          "metadata": {}
        }
      ],
      "source": [
        "# Barplot of the \"slope\" attribute with respect to the \"target\" variable:\n",
        "sns.barplot(dataset[\"slope\"], y)"
      ]
    },
    {
      "cell_type": "markdown",
      "metadata": {
        "id": "9HSmR6SyXI5N"
      },
      "source": [
        "Post analysis of 'slope' attribute, we observe that the slope '2' entails more heart pain that the slope values of '0' and '1'."
      ]
    },
    {
      "cell_type": "markdown",
      "metadata": {
        "id": "VWAYsUO3XFzU"
      },
      "source": [
        "### **Analysing *'exang'* feature:**"
      ]
    },
    {
      "cell_type": "code",
      "execution_count": null,
      "metadata": {
        "colab": {
          "base_uri": "https://localhost:8080/"
        },
        "id": "2RsCQnVZXFzW",
        "outputId": "a232a3af-2996-47c9-a5eb-db3d346a6963"
      },
      "outputs": [
        {
          "output_type": "execute_result",
          "data": {
            "text/plain": [
              "array([0, 1])"
            ]
          },
          "metadata": {},
          "execution_count": 82
        }
      ],
      "source": [
        "dataset[\"exang\"].unique()"
      ]
    },
    {
      "cell_type": "code",
      "execution_count": null,
      "metadata": {
        "colab": {
          "base_uri": "https://localhost:8080/",
          "height": 141
        },
        "id": "oPGRos35XFzX",
        "outputId": "c2296def-1e3b-4b93-ca93-1bd69c5f396e"
      },
      "outputs": [
        {
          "output_type": "stream",
          "name": "stderr",
          "text": [
            "/usr/local/lib/python3.8/dist-packages/seaborn/_decorators.py:36: FutureWarning: Pass the following variables as keyword args: x, y. From version 0.12, the only valid positional argument will be `data`, and passing other arguments without an explicit keyword will result in an error or misinterpretation.\n",
            "  warnings.warn(\n"
          ]
        },
        {
          "output_type": "execute_result",
          "data": {
            "text/plain": [
              "<matplotlib.axes._subplots.AxesSubplot at 0x7f5698a7d820>"
            ]
          },
          "metadata": {},
          "execution_count": 83
        },
        {
          "output_type": "display_data",
          "data": {
            "text/plain": [
              "<Figure size 842.4x595.44 with 1 Axes>"
            ],
            "image/png": "[encoded data removed]"
          },
          "metadata": {}
        }
      ],
      "source": [
        "# Barplot of the \"exang\" attribute with respect to the \"target\" variable:\n",
        "sns.barplot(dataset[\"exang\"], y)"
      ]
    },
    {
      "cell_type": "markdown",
      "metadata": {
        "id": "71a8vmLtXkOo"
      },
      "source": [
        "Here, it is observed that individuals with 'exang' = 1 i,e. excercise induced angina are much less likely to have cardiac problems."
      ]
    },
    {
      "cell_type": "markdown",
      "metadata": {
        "id": "wAPgN6pNX8ng"
      },
      "source": [
        "### **Analysing *'ca'* feature:**"
      ]
    },
    {
      "cell_type": "code",
      "execution_count": null,
      "metadata": {
        "colab": {
          "base_uri": "https://localhost:8080/"
        },
        "id": "aVp6A1W5X8ni",
        "outputId": "fa8c281a-9ed5-457b-acf4-e51f8cd996ae"
      },
      "outputs": [
        {
          "output_type": "execute_result",
          "data": {
            "text/plain": [
              "array([0, 2, 1, 3, 4])"
            ]
          },
          "metadata": {},
          "execution_count": 84
        }
      ],
      "source": [
        "dataset[\"ca\"].unique()"
      ]
    },
    {
      "cell_type": "code",
      "execution_count": null,
      "metadata": {
        "colab": {
          "base_uri": "https://localhost:8080/",
          "height": 141
        },
        "id": "3QE7D-mBYGgY",
        "outputId": "f6e3558d-7a89-477c-c744-820e5c97f75b"
      },
      "outputs": [
        {
          "output_type": "stream",
          "name": "stderr",
          "text": [
            "/usr/local/lib/python3.8/dist-packages/seaborn/_decorators.py:36: FutureWarning: Pass the following variable as a keyword arg: x. From version 0.12, the only valid positional argument will be `data`, and passing other arguments without an explicit keyword will result in an error or misinterpretation.\n",
            "  warnings.warn(\n"
          ]
        },
        {
          "output_type": "execute_result",
          "data": {
            "text/plain": [
              "<matplotlib.axes._subplots.AxesSubplot at 0x7f563b114850>"
            ]
          },
          "metadata": {},
          "execution_count": 85
        },
        {
          "output_type": "display_data",
          "data": {
            "text/plain": [
              "<Figure size 842.4x595.44 with 1 Axes>"
            ],
            "image/png": "[encoded data removed]"
          },
          "metadata": {}
        }
      ],
      "source": [
        "sns.countplot(dataset[\"ca\"])"
      ]
    },
    {
      "cell_type": "code",
      "execution_count": null,
      "metadata": {
        "colab": {
          "base_uri": "https://localhost:8080/",
          "height": 141
        },
        "id": "zxSjBTl0X8nj",
        "outputId": "45e7ef82-dcd9-47a6-83d7-60b15f58d1c4"
      },
      "outputs": [
        {
          "output_type": "stream",
          "name": "stderr",
          "text": [
            "/usr/local/lib/python3.8/dist-packages/seaborn/_decorators.py:36: FutureWarning: Pass the following variables as keyword args: x, y. From version 0.12, the only valid positional argument will be `data`, and passing other arguments without an explicit keyword will result in an error or misinterpretation.\n",
            "  warnings.warn(\n"
          ]
        },
        {
          "output_type": "execute_result",
          "data": {
            "text/plain": [
              "<matplotlib.axes._subplots.AxesSubplot at 0x7f563b0e2520>"
            ]
          },
          "metadata": {},
          "execution_count": 86
        },
        {
          "output_type": "display_data",
          "data": {
            "text/plain": [
              "<Figure size 842.4x595.44 with 1 Axes>"
            ],
            "image/png": "[encoded data removed]"
          },
          "metadata": {}
        }
      ],
      "source": [
        "# Barplot of the \"ca\" attribute with respect to the \"target\" variable:\n",
        "sns.barplot(dataset[\"ca\"], y)"
      ]
    },
    {
      "cell_type": "markdown",
      "metadata": {
        "id": "0QP0xH4XX8nk"
      },
      "source": [
        "Here, it is observed that category 'ca' = 4 has extremely high number of individuals with heart problems."
      ]
    },
    {
      "cell_type": "markdown",
      "metadata": {
        "id": "4uDrJ9TFZUIw"
      },
      "source": [
        "### **Analysing *'thal'* feature:**"
      ]
    },
    {
      "cell_type": "code",
      "execution_count": null,
      "metadata": {
        "colab": {
          "base_uri": "https://localhost:8080/"
        },
        "id": "CQMUOz7qZUIx",
        "outputId": "afb389ef-a0aa-4a5f-e700-25ebc901d6ec"
      },
      "outputs": [
        {
          "output_type": "execute_result",
          "data": {
            "text/plain": [
              "array([1, 2, 3, 0])"
            ]
          },
          "metadata": {},
          "execution_count": 87
        }
      ],
      "source": [
        "dataset[\"thal\"].unique()"
      ]
    },
    {
      "cell_type": "code",
      "execution_count": null,
      "metadata": {
        "colab": {
          "base_uri": "https://localhost:8080/",
          "height": 141
        },
        "id": "r6XRzEylZUIy",
        "outputId": "3dcee745-8d4b-4f5e-b294-a3f8f45fb6f2"
      },
      "outputs": [
        {
          "output_type": "stream",
          "name": "stderr",
          "text": [
            "/usr/local/lib/python3.8/dist-packages/seaborn/_decorators.py:36: FutureWarning: Pass the following variable as a keyword arg: x. From version 0.12, the only valid positional argument will be `data`, and passing other arguments without an explicit keyword will result in an error or misinterpretation.\n",
            "  warnings.warn(\n"
          ]
        },
        {
          "output_type": "execute_result",
          "data": {
            "text/plain": [
              "<matplotlib.axes._subplots.AxesSubplot at 0x7f5638e79f10>"
            ]
          },
          "metadata": {},
          "execution_count": 88
        },
        {
          "output_type": "display_data",
          "data": {
            "text/plain": [
              "<Figure size 842.4x595.44 with 1 Axes>"
            ],
            "image/png": "[encoded data removed]"
          },
          "metadata": {}
        }
      ],
      "source": [
        "sns.countplot(dataset[\"thal\"])"
      ]
    },
    {
      "cell_type": "code",
      "execution_count": null,
      "metadata": {
        "colab": {
          "base_uri": "https://localhost:8080/",
          "height": 141
        },
        "id": "xctYlQ6OZUIz",
        "outputId": "8d57dc97-d52a-46ef-ac1f-bafe64f1fad2"
      },
      "outputs": [
        {
          "output_type": "stream",
          "name": "stderr",
          "text": [
            "/usr/local/lib/python3.8/dist-packages/seaborn/_decorators.py:36: FutureWarning: Pass the following variables as keyword args: x, y. From version 0.12, the only valid positional argument will be `data`, and passing other arguments without an explicit keyword will result in an error or misinterpretation.\n",
            "  warnings.warn(\n"
          ]
        },
        {
          "output_type": "execute_result",
          "data": {
            "text/plain": [
              "<matplotlib.axes._subplots.AxesSubplot at 0x7f5638e4b250>"
            ]
          },
          "metadata": {},
          "execution_count": 89
        },
        {
          "output_type": "display_data",
          "data": {
            "text/plain": [
              "<Figure size 842.4x595.44 with 1 Axes>"
            ],
            "image/png": "[encoded data removed]"
          },
          "metadata": {}
        }
      ],
      "source": [
        "# Barplot of the \"thal\" attribute with respect to the \"target\" variable:\n",
        "sns.barplot(dataset[\"thal\"], y)"
      ]
    },
    {
      "cell_type": "markdown",
      "metadata": {
        "id": "SOT0XXeffSHx"
      },
      "source": [
        "# **Train Test Split**\n",
        "By definition, A model validation technique called train-test-split allows you to mimic how a model would perform on brand-new, untested data. "
      ]
    },
    {
      "cell_type": "code",
      "execution_count": null,
      "metadata": {
        "id": "DUZ-qtPcguGX"
      },
      "outputs": [],
      "source": [
        "# Using sklearn to import train_test_split() method:\n",
        "from sklearn.model_selection import train_test_split\n",
        "\n",
        "# We can generate a 'predictors' frame by removing 'target' from the 'dataset'\n",
        "# we can obtain that by using drop() method\n",
        "predictors = dataset.drop(\"target\", axis = 1)\n",
        "\n",
        "# Our target for the entire dataset\n",
        "target = dataset[\"target\"]\n",
        "\n",
        "# Splitting the dataset with 80:20 (Train size = 0.80, Test size = 0.20)\n",
        "X_train,X_test,Y_train,Y_test = train_test_split(predictors,target,test_size=0.20,random_state=0)"
      ]
    },
    {
      "cell_type": "markdown",
      "metadata": {
        "id": "sK9NC2_riPzF"
      },
      "source": [
        "let us print out the dimension of the X_train, X_test, Y_train, Y_test:"
      ]
    },
    {
      "cell_type": "code",
      "execution_count": null,
      "metadata": {
        "colab": {
          "base_uri": "https://localhost:8080/"
        },
        "id": "up8YKKHKiEof",
        "outputId": "b7398008-e6b9-4d8e-dad9-40221cbfd817"
      },
      "outputs": [
        {
          "output_type": "execute_result",
          "data": {
            "text/plain": [
              "(242, 13)"
            ]
          },
          "metadata": {},
          "execution_count": 91
        }
      ],
      "source": [
        "# X_train:\n",
        "X_train.shape"
      ]
    },
    {
      "cell_type": "code",
      "execution_count": null,
      "metadata": {
        "colab": {
          "base_uri": "https://localhost:8080/"
        },
        "id": "wf8jYVeWiaHx",
        "outputId": "c98eae5f-d846-42c4-fe43-975a87d30fe8"
      },
      "outputs": [
        {
          "output_type": "execute_result",
          "data": {
            "text/plain": [
              "(61, 13)"
            ]
          },
          "metadata": {},
          "execution_count": 92
        }
      ],
      "source": [
        "# X_test:\n",
        "X_test.shape"
      ]
    },
    {
      "cell_type": "code",
      "execution_count": null,
      "metadata": {
        "colab": {
          "base_uri": "https://localhost:8080/"
        },
        "id": "E9zR3IFCigg6",
        "outputId": "e4e98173-9dd5-41de-c8e0-a091a1dc7df0"
      },
      "outputs": [
        {
          "output_type": "execute_result",
          "data": {
            "text/plain": [
              "(242,)"
            ]
          },
          "metadata": {},
          "execution_count": 93
        }
      ],
      "source": [
        "# Y_train:\n",
        "Y_train.shape"
      ]
    },
    {
      "cell_type": "code",
      "execution_count": null,
      "metadata": {
        "colab": {
          "base_uri": "https://localhost:8080/"
        },
        "id": "AL32juyRikjh",
        "outputId": "cecf0718-5823-49c7-cee1-956ada0cce1a"
      },
      "outputs": [
        {
          "output_type": "execute_result",
          "data": {
            "text/plain": [
              "(61,)"
            ]
          },
          "metadata": {},
          "execution_count": 94
        }
      ],
      "source": [
        "# Y_test:\n",
        "Y_test.shape"
      ]
    },
    {
      "cell_type": "markdown",
      "metadata": {
        "id": "yLCWqv5ZjmrE"
      },
      "source": [
        "# **Model fitting:**\n",
        "The definition and the entail details about model fitting are present in the report.\n",
        "For this project, we are considering the following Machine Learning Algorithms:\n",
        "\n",
        "\n",
        "1. Logistic Regression\n",
        "2. Naive Bayes\n",
        "3. Support Vector Machines\n",
        "4. Decision Tree\n",
        "5. Random Forest\n",
        "6. K-Nearest Neighbors\n",
        "7. XGBoost\n",
        "8. Neural Network\n",
        "\n",
        "In the report, one can find the observations in regard to the performance comparison and the way these above mentioned algorithms perform on this given dataset."
      ]
    },
    {
      "cell_type": "markdown",
      "metadata": {
        "id": "4Q5Y5j9lmIWL"
      },
      "source": [
        "### **Logistic Regression**\n",
        "In regression analysis, logistic regression estimates a logistic model's parameters (the coefficients in the linear combination).\n",
        "Formally, binary logistic regression has a single binary dependent variable (two classes, coded by an indicator variable) with the values \"0\" and \"1,\" while the independent variables can either be continuous variables or binary variables. (Source: *Wikipedia*)"
      ]
    },
    {
      "cell_type": "code",
      "execution_count": null,
      "metadata": {
        "colab": {
          "base_uri": "https://localhost:8080/"
        },
        "id": "lYC4tybinovR",
        "outputId": "53a52a3f-1cd3-42f2-d75b-82a5c6d45bef"
      },
      "outputs": [
        {
          "output_type": "stream",
          "name": "stderr",
          "text": [
            "/usr/local/lib/python3.8/dist-packages/sklearn/linear_model/_logistic.py:814: ConvergenceWarning: lbfgs failed to converge (status=1):\n",
            "STOP: TOTAL NO. of ITERATIONS REACHED LIMIT.\n",
            "\n",
            "Increase the number of iterations (max_iter) or scale the data as shown in:\n",
            "    https://scikit-learn.org/stable/modules/preprocessing.html\n",
            "Please also refer to the documentation for alternative solver options:\n",
            "    https://scikit-learn.org/stable/modules/linear_model.html#logistic-regression\n",
            "  n_iter_i = _check_optimize_result(\n"
          ]
        },
        {
          "output_type": "execute_result",
          "data": {
            "text/plain": [
              "(61,)"
            ]
          },
          "metadata": {},
          "execution_count": 106
        }
      ],
      "source": [
        "# importing 'accuracy_score' from sklearn to store accuracy of Logistic Regression:\n",
        "from sklearn.metrics import accuracy_score\n",
        "from sklearn.metrics import classification_report\n",
        "\n",
        "# import Logistic Regression function from sklearn:\n",
        "from sklearn.linear_model import LogisticRegression\n",
        "\n",
        "lr_classifier = LogisticRegression()\n",
        "\n",
        "# fit the training dataset:\n",
        "lr_classifier.fit(X_train, Y_train)\n",
        "\n",
        "# Getting the 'Y_pred':\n",
        "Y_pred = lr_classifier.predict(X_test)\n",
        "\n",
        "# Shape of 'Y_pred':\n",
        "Y_pred.shape"
      ]
    },
    {
      "cell_type": "markdown",
      "metadata": {
        "id": "kRGrTDGgoglz"
      },
      "source": [
        "**Accuracy Score of Logistic Regression**"
      ]
    },
    {
      "cell_type": "code",
      "execution_count": null,
      "metadata": {
        "colab": {
          "base_uri": "https://localhost:8080/",
          "height": 235
        },
        "id": "fMJ3_FAiouj0",
        "outputId": "351ae7d4-8ce5-4368-b92f-d3c51a92390e"
      },
      "outputs": [
        {
          "output_type": "stream",
          "name": "stdout",
          "text": [
            "The accuracy using Logistic Regression is: 85.2459 %\n",
            "The Classification report with precision, recall value, F1-Score, and support is:\n"
          ]
        },
        {
          "output_type": "error",
          "ename": "IndexError",
          "evalue": "ignored",
          "traceback": [
            "\u001b[0;31m---------------------------------------------------------------------------\u001b[0m",
            "\u001b[0;31mIndexError\u001b[0m                                Traceback (most recent call last)",
            "\u001b[0;32m<ipython-input-119-22cb310c6417>\u001b[0m in \u001b[0;36m<module>\u001b[0;34m\u001b[0m\n\u001b[1;32m      4\u001b[0m \u001b[0mprint\u001b[0m\u001b[0;34m(\u001b[0m\u001b[0;34m\"The Classification report with precision, recall value, F1-Score, and support is:\"\u001b[0m\u001b[0;34m)\u001b[0m\u001b[0;34m\u001b[0m\u001b[0;34m\u001b[0m\u001b[0m\n\u001b[1;32m      5\u001b[0m \u001b[0mreport\u001b[0m \u001b[0;34m=\u001b[0m \u001b[0mclassification_report\u001b[0m\u001b[0;34m(\u001b[0m\u001b[0mY_test\u001b[0m\u001b[0;34m,\u001b[0m \u001b[0mY_pred\u001b[0m\u001b[0;34m)\u001b[0m\u001b[0;34m\u001b[0m\u001b[0;34m\u001b[0m\u001b[0m\n\u001b[0;32m----> 6\u001b[0;31m \u001b[0mprint\u001b[0m\u001b[0;34m(\u001b[0m\u001b[0mreport\u001b[0m\u001b[0;34m[\u001b[0m\u001b[0;36m0\u001b[0m\u001b[0;34m]\u001b[0m\u001b[0;34m[\u001b[0m\u001b[0;36m5\u001b[0m\u001b[0;34m]\u001b[0m\u001b[0;34m)\u001b[0m\u001b[0;34m\u001b[0m\u001b[0;34m\u001b[0m\u001b[0m\n\u001b[0m",
            "\u001b[0;31mIndexError\u001b[0m: string index out of range"
          ]
        }
      ],
      "source": [
        "# Accuracy will be rounded up for mathematical clarity and for comparisons:\n",
        "accuracy_score_logistic_regression = round(accuracy_score(Y_pred, Y_test)*100, 4)\n",
        "print(\"The accuracy using Logistic Regression is: \" + str(accuracy_score_logistic_regression) + \" %\")\n",
        "print(\"The Classification report with precision, recall value, F1-Score, and support is:\")\n",
        "print()"
      ]
    },
    {
      "cell_type": "markdown",
      "metadata": {
        "id": "EATAUeHmpg1S"
      },
      "source": [
        "### **Naive Bayes Classifier**\n",
        "Naive Bayes is a straightforward method for building classifiers. These models assign class labels to problem cases, which are represented as vectors of feature values, and the class labels are chosen from a finite set. For training such classifiers, there isn't just one technique, but rather a family of algorithms built on the premise that, given the class variable, the value of one feature is independent of the value of every other feature. (Source: *Wikipedia*)"
      ]
    },
    {
      "cell_type": "code",
      "execution_count": null,
      "metadata": {
        "colab": {
          "base_uri": "https://localhost:8080/"
        },
        "id": "I2mcS7PZpg1U",
        "outputId": "70f80cf7-1d6d-44d0-df97-456a38297291"
      },
      "outputs": [
        {
          "output_type": "execute_result",
          "data": {
            "text/plain": [
              "(61,)"
            ]
          },
          "metadata": {},
          "execution_count": 97
        }
      ],
      "source": [
        "# importing 'accuracy_score' from sklearn to store accuracy of Naive Bayes Algorithm:\n",
        "from sklearn.metrics import accuracy_score\n",
        "\n",
        "# import Naive Bayes Algorithm function from sklearn:\n",
        "from sklearn.naive_bayes import GaussianNB\n",
        "\n",
        "# Creating an instance of the Naive Bayes\n",
        "nb_classifier = GaussianNB()\n",
        "\n",
        "# fit the training dataset:\n",
        "nb_classifier.fit(X_train, Y_train)\n",
        "\n",
        "# Getting the 'Y_pred':\n",
        "Y_pred = nb_classifier.predict(X_test)\n",
        "\n",
        "# Shape of 'Y_pred':\n",
        "Y_pred.shape"
      ]
    },
    {
      "cell_type": "markdown",
      "metadata": {
        "id": "e3mEwloapg1V"
      },
      "source": [
        "**Accuracy Score of Naive Bayes Classifier**"
      ]
    },
    {
      "cell_type": "code",
      "execution_count": null,
      "metadata": {
        "colab": {
          "base_uri": "https://localhost:8080/"
        },
        "id": "DN-uQOxwpg1W",
        "outputId": "ab9c39bb-2b69-42ca-cba8-249ba6e122ae"
      },
      "outputs": [
        {
          "output_type": "stream",
          "name": "stdout",
          "text": [
            "The accuracy using Naive Bayes Classifier is: 85.2459 %\n"
          ]
        }
      ],
      "source": [
        "# Accuracy will be rounded up for mathematical clarity and for comparisons:\n",
        "accuracy_score_naive_bayes = round(accuracy_score(Y_pred, Y_test)*100, 4)\n",
        "print(\"The accuracy using Naive Bayes Classifier is: \" + str(accuracy_score_naive_bayes) + \" %\")"
      ]
    },
    {
      "cell_type": "markdown",
      "metadata": {
        "id": "agB3NAi6qMVE"
      },
      "source": [
        "### **Support Vector Machines**\n",
        "SVM assigns training samples to spatial coordinates in order to maximize the distance between the two categories.\n",
        "Then, based on which side of the gap they fall, new examples are projected into that same space and predicted to belong to a category. (Source: *Wikipedia*)\n",
        "\n",
        "**Note:** Apart from Linear Classification, Using a technique known as the kernel trick, SVMs can effectively execute a non-linear classification by implicitly mapping their inputs into high-dimensional feature spaces. "
      ]
    },
    {
      "cell_type": "code",
      "execution_count": null,
      "metadata": {
        "colab": {
          "base_uri": "https://localhost:8080/"
        },
        "id": "YTdNRODiqMVG",
        "outputId": "8c4ad7b9-7a2c-4f9e-c221-3dfcfce54a1f"
      },
      "outputs": [
        {
          "output_type": "execute_result",
          "data": {
            "text/plain": [
              "(61,)"
            ]
          },
          "metadata": {},
          "execution_count": 99
        }
      ],
      "source": [
        "# importing 'accuracy_score' from sklearn to store accuracy of Support Vector Machine:\n",
        "from sklearn.metrics import accuracy_score\n",
        "\n",
        "# import Support Vector Machine (SVM) from sklearn:\n",
        "from sklearn import svm\n",
        "\n",
        "# Using kernel trick to tune SVM for classification\n",
        "svm_classifier = svm.SVC(kernel='linear')\n",
        "\n",
        "# fit the training dataset:\n",
        "svm_classifier.fit(X_train, Y_train)\n",
        "\n",
        "# Getting the 'Y_pred':\n",
        "Y_pred_svm = svm_classifier.predict(X_test)\n",
        "\n",
        "# Shape of 'Y_pred':\n",
        "Y_pred_svm.shape"
      ]
    },
    {
      "cell_type": "markdown",
      "metadata": {
        "id": "kxSb_uWQqMVK"
      },
      "source": [
        "**Accuracy Score of Support Vector Machines**"
      ]
    },
    {
      "cell_type": "code",
      "execution_count": null,
      "metadata": {
        "colab": {
          "base_uri": "https://localhost:8080/"
        },
        "id": "DBzm0tSuqMVL",
        "outputId": "3882df0c-c264-4440-f087-28c1eafa2760"
      },
      "outputs": [
        {
          "output_type": "stream",
          "name": "stdout",
          "text": [
            "The accuracy using Support Vector Machines is: 81.9672 %\n"
          ]
        }
      ],
      "source": [
        "# Accuracy will be rounded up for mathematical clarity and for comparisons:\n",
        "accuracy_score_svm = round(accuracy_score(Y_pred_svm, Y_test)*100, 4)\n",
        "print(\"The accuracy using Support Vector Machines is: \" + str(accuracy_score_svm) + \" %\")"
      ]
    },
    {
      "cell_type": "markdown",
      "metadata": {
        "id": "OBnNj5lSRbeY"
      },
      "source": [
        "### **Decision Tree**\n",
        "A decision tree is a flowchart-like structure in which each leaf node represents a class label, each internal node represents a \"test\" on an attribute (such as whether a coin will land heads or tails), and each branch indicates the result of the test (decision taken after computing all attributes. Classification rules are represented by the routes from root to leaf. (Source: *Wikipedia*)"
      ]
    },
    {
      "cell_type": "code",
      "execution_count": null,
      "metadata": {
        "colab": {
          "base_uri": "https://localhost:8080/"
        },
        "id": "nh2EKp62Rbef",
        "outputId": "9fde4968-6e43-4113-8d7c-139701e240ed"
      },
      "outputs": [
        {
          "output_type": "stream",
          "name": "stdout",
          "text": [
            "The maximum accuracy is:  81.97\n",
            "The best state for the maximum accuracy is:  11\n"
          ]
        },
        {
          "output_type": "execute_result",
          "data": {
            "text/plain": [
              "(61,)"
            ]
          },
          "metadata": {},
          "execution_count": 101
        }
      ],
      "source": [
        "# importing Decision Tree Algorithm from sklearn:\n",
        "from sklearn.tree import DecisionTreeClassifier\n",
        "\n",
        "# importing 'accuracy_score' from sklearn to store accuracy of Decision Tree Algorithm:\n",
        "from sklearn.metrics import accuracy_score\n",
        "\n",
        "# Considering that decision tree can produce various accuracies for multiple cases; we need to capture the max accuracy using a variable\n",
        "max_accuracy = 0\n",
        "\n",
        "# Storing best state in the decision tree model\n",
        "best_state = 0\n",
        "\n",
        "for curr_state in range(200):\n",
        "  dec_tree_classifier = DecisionTreeClassifier(random_state=curr_state)\n",
        "  dec_tree_classifier.fit(X_train, Y_train)\n",
        "  Y_pred_dec_tree = dec_tree_classifier.predict(X_test)\n",
        "  accuracy_current_state = round(accuracy_score(Y_pred_dec_tree, Y_test)*100, 2)\n",
        "\n",
        "  if (accuracy_current_state > max_accuracy):\n",
        "    max_accuracy = accuracy_current_state\n",
        "    best_state = curr_state\n",
        "\n",
        "\n",
        "\n",
        "print(\"The maximum accuracy is: \", max_accuracy)\n",
        "print(\"The best state for the maximum accuracy is: \", best_state)\n",
        "\n",
        "dec_tree_classifier = DecisionTreeClassifier(random_state=best_state)\n",
        "\n",
        "# fit the training dataset:\n",
        "dec_tree_classifier.fit(X_train, Y_train)\n",
        "\n",
        "# Getting the 'Y_pred':\n",
        "Y_pred_dec_tree = dec_tree_classifier.predict(X_test)\n",
        "\n",
        "# Shape of 'Y_pred':\n",
        "Y_pred_dec_tree.shape"
      ]
    },
    {
      "cell_type": "markdown",
      "metadata": {
        "id": "CTHOObUNRbef"
      },
      "source": [
        "**Accuracy Score of Decision Tree Algorithm**"
      ]
    },
    {
      "cell_type": "code",
      "execution_count": null,
      "metadata": {
        "colab": {
          "base_uri": "https://localhost:8080/"
        },
        "id": "57HFWUOKRbeg",
        "outputId": "996ce0ab-04d2-485d-c409-fe2954d11b5d"
      },
      "outputs": [
        {
          "output_type": "stream",
          "name": "stdout",
          "text": [
            "The accuracy using Support Vector Machines is: 81.9672 %\n"
          ]
        }
      ],
      "source": [
        "# Accuracy will be rounded up for mathematical clarity and for comparisons:\n",
        "accuracy_score_decision_tree = round(accuracy_score(Y_pred_dec_tree, Y_test)*100, 4)\n",
        "print(\"The accuracy using Support Vector Machines is: \" + str(accuracy_score_decision_tree) + \" %\")"
      ]
    },
    {
      "cell_type": "markdown",
      "metadata": {
        "id": "5HUNhL5UYs_d"
      },
      "source": [
        "### **Random Forest Algorithm**\n",
        "The class that the majority of the trees chose is the output of the random forest for classification problems. The mean or average prediction of each individual tree is returned for regression tasks. The tendency of decision trees to overfit their training set is corrected by random decision forests. Although they frequently outperform decision trees, gradient boosted trees are more accurate than random forests. (Source: *Wikipedia*)"
      ]
    },
    {
      "cell_type": "code",
      "execution_count": null,
      "metadata": {
        "colab": {
          "base_uri": "https://localhost:8080/",
          "height": 381
        },
        "id": "SHYj1zo9Ys_l",
        "outputId": "437c7436-27e4-4fcf-ac5e-86c7e9f2d09f"
      },
      "outputs": [
        {
          "output_type": "error",
          "ename": "KeyboardInterrupt",
          "evalue": "ignored",
          "traceback": [
            "\u001b[0;31m---------------------------------------------------------------------------\u001b[0m",
            "\u001b[0;31mKeyboardInterrupt\u001b[0m                         Traceback (most recent call last)",
            "\u001b[0;32m<ipython-input-103-6dc91f0daa27>\u001b[0m in \u001b[0;36m<module>\u001b[0;34m\u001b[0m\n\u001b[1;32m     13\u001b[0m \u001b[0;32mfor\u001b[0m \u001b[0mstate\u001b[0m \u001b[0;32min\u001b[0m \u001b[0mrange\u001b[0m\u001b[0;34m(\u001b[0m\u001b[0;36m2000\u001b[0m\u001b[0;34m)\u001b[0m\u001b[0;34m:\u001b[0m\u001b[0;34m\u001b[0m\u001b[0;34m\u001b[0m\u001b[0m\n\u001b[1;32m     14\u001b[0m   \u001b[0mrandom_forest_classifier\u001b[0m \u001b[0;34m=\u001b[0m \u001b[0mRandomForestClassifier\u001b[0m\u001b[0;34m(\u001b[0m\u001b[0mrandom_state\u001b[0m\u001b[0;34m=\u001b[0m\u001b[0mstate\u001b[0m\u001b[0;34m)\u001b[0m\u001b[0;34m\u001b[0m\u001b[0;34m\u001b[0m\u001b[0m\n\u001b[0;32m---> 15\u001b[0;31m   \u001b[0mrandom_forest_classifier\u001b[0m\u001b[0;34m.\u001b[0m\u001b[0mfit\u001b[0m\u001b[0;34m(\u001b[0m\u001b[0mX_train\u001b[0m\u001b[0;34m,\u001b[0m \u001b[0mY_train\u001b[0m\u001b[0;34m)\u001b[0m\u001b[0;34m\u001b[0m\u001b[0;34m\u001b[0m\u001b[0m\n\u001b[0m\u001b[1;32m     16\u001b[0m   \u001b[0mY_pred_random_forest\u001b[0m \u001b[0;34m=\u001b[0m \u001b[0mrandom_forest_classifier\u001b[0m\u001b[0;34m.\u001b[0m\u001b[0mpredict\u001b[0m\u001b[0;34m(\u001b[0m\u001b[0mX_test\u001b[0m\u001b[0;34m)\u001b[0m\u001b[0;34m\u001b[0m\u001b[0;34m\u001b[0m\u001b[0m\n\u001b[1;32m     17\u001b[0m   \u001b[0maccuracy_current_state\u001b[0m \u001b[0;34m=\u001b[0m \u001b[0mround\u001b[0m\u001b[0;34m(\u001b[0m\u001b[0maccuracy_score\u001b[0m\u001b[0;34m(\u001b[0m\u001b[0mY_pred_random_forest\u001b[0m\u001b[0;34m,\u001b[0m \u001b[0mY_test\u001b[0m\u001b[0;34m)\u001b[0m\u001b[0;34m*\u001b[0m\u001b[0;36m100\u001b[0m\u001b[0;34m,\u001b[0m \u001b[0;36m2\u001b[0m\u001b[0;34m)\u001b[0m\u001b[0;34m\u001b[0m\u001b[0;34m\u001b[0m\u001b[0m\n",
            "\u001b[0;32m/usr/local/lib/python3.8/dist-packages/sklearn/ensemble/_forest.py\u001b[0m in \u001b[0;36mfit\u001b[0;34m(self, X, y, sample_weight)\u001b[0m\n\u001b[1;32m    437\u001b[0m                 \u001b[0mrandom_state\u001b[0m\u001b[0;34m.\u001b[0m\u001b[0mrandint\u001b[0m\u001b[0;34m(\u001b[0m\u001b[0mMAX_INT\u001b[0m\u001b[0;34m,\u001b[0m \u001b[0msize\u001b[0m\u001b[0;34m=\u001b[0m\u001b[0mlen\u001b[0m\u001b[0;34m(\u001b[0m\u001b[0mself\u001b[0m\u001b[0;34m.\u001b[0m\u001b[0mestimators_\u001b[0m\u001b[0;34m)\u001b[0m\u001b[0;34m)\u001b[0m\u001b[0;34m\u001b[0m\u001b[0;34m\u001b[0m\u001b[0m\n\u001b[1;32m    438\u001b[0m \u001b[0;34m\u001b[0m\u001b[0m\n\u001b[0;32m--> 439\u001b[0;31m             trees = [\n\u001b[0m\u001b[1;32m    440\u001b[0m                 \u001b[0mself\u001b[0m\u001b[0;34m.\u001b[0m\u001b[0m_make_estimator\u001b[0m\u001b[0;34m(\u001b[0m\u001b[0mappend\u001b[0m\u001b[0;34m=\u001b[0m\u001b[0;32mFalse\u001b[0m\u001b[0;34m,\u001b[0m \u001b[0mrandom_state\u001b[0m\u001b[0;34m=\u001b[0m\u001b[0mrandom_state\u001b[0m\u001b[0;34m)\u001b[0m\u001b[0;34m\u001b[0m\u001b[0;34m\u001b[0m\u001b[0m\n\u001b[1;32m    441\u001b[0m                 \u001b[0;32mfor\u001b[0m \u001b[0mi\u001b[0m \u001b[0;32min\u001b[0m \u001b[0mrange\u001b[0m\u001b[0;34m(\u001b[0m\u001b[0mn_more_estimators\u001b[0m\u001b[0;34m)\u001b[0m\u001b[0;34m\u001b[0m\u001b[0;34m\u001b[0m\u001b[0m\n",
            "\u001b[0;32m/usr/local/lib/python3.8/dist-packages/sklearn/ensemble/_forest.py\u001b[0m in \u001b[0;36m<listcomp>\u001b[0;34m(.0)\u001b[0m\n\u001b[1;32m    438\u001b[0m \u001b[0;34m\u001b[0m\u001b[0m\n\u001b[1;32m    439\u001b[0m             trees = [\n\u001b[0;32m--> 440\u001b[0;31m                 \u001b[0mself\u001b[0m\u001b[0;34m.\u001b[0m\u001b[0m_make_estimator\u001b[0m\u001b[0;34m(\u001b[0m\u001b[0mappend\u001b[0m\u001b[0;34m=\u001b[0m\u001b[0;32mFalse\u001b[0m\u001b[0;34m,\u001b[0m \u001b[0mrandom_state\u001b[0m\u001b[0;34m=\u001b[0m\u001b[0mrandom_state\u001b[0m\u001b[0;34m)\u001b[0m\u001b[0;34m\u001b[0m\u001b[0;34m\u001b[0m\u001b[0m\n\u001b[0m\u001b[1;32m    441\u001b[0m                 \u001b[0;32mfor\u001b[0m \u001b[0mi\u001b[0m \u001b[0;32min\u001b[0m \u001b[0mrange\u001b[0m\u001b[0;34m(\u001b[0m\u001b[0mn_more_estimators\u001b[0m\u001b[0;34m)\u001b[0m\u001b[0;34m\u001b[0m\u001b[0;34m\u001b[0m\u001b[0m\n\u001b[1;32m    442\u001b[0m             ]\n",
            "\u001b[0;32m/usr/local/lib/python3.8/dist-packages/sklearn/ensemble/_base.py\u001b[0m in \u001b[0;36m_make_estimator\u001b[0;34m(self, append, random_state)\u001b[0m\n\u001b[1;32m    156\u001b[0m         \u001b[0msub\u001b[0m\u001b[0;34m-\u001b[0m\u001b[0mestimators\u001b[0m\u001b[0;34m.\u001b[0m\u001b[0;34m\u001b[0m\u001b[0;34m\u001b[0m\u001b[0m\n\u001b[1;32m    157\u001b[0m         \"\"\"\n\u001b[0;32m--> 158\u001b[0;31m         \u001b[0mestimator\u001b[0m \u001b[0;34m=\u001b[0m \u001b[0mclone\u001b[0m\u001b[0;34m(\u001b[0m\u001b[0mself\u001b[0m\u001b[0;34m.\u001b[0m\u001b[0mbase_estimator_\u001b[0m\u001b[0;34m)\u001b[0m\u001b[0;34m\u001b[0m\u001b[0;34m\u001b[0m\u001b[0m\n\u001b[0m\u001b[1;32m    159\u001b[0m         \u001b[0mestimator\u001b[0m\u001b[0;34m.\u001b[0m\u001b[0mset_params\u001b[0m\u001b[0;34m(\u001b[0m\u001b[0;34m**\u001b[0m\u001b[0;34m{\u001b[0m\u001b[0mp\u001b[0m\u001b[0;34m:\u001b[0m \u001b[0mgetattr\u001b[0m\u001b[0;34m(\u001b[0m\u001b[0mself\u001b[0m\u001b[0;34m,\u001b[0m \u001b[0mp\u001b[0m\u001b[0;34m)\u001b[0m \u001b[0;32mfor\u001b[0m \u001b[0mp\u001b[0m \u001b[0;32min\u001b[0m \u001b[0mself\u001b[0m\u001b[0;34m.\u001b[0m\u001b[0mestimator_params\u001b[0m\u001b[0;34m}\u001b[0m\u001b[0;34m)\u001b[0m\u001b[0;34m\u001b[0m\u001b[0;34m\u001b[0m\u001b[0m\n\u001b[1;32m    160\u001b[0m \u001b[0;34m\u001b[0m\u001b[0m\n",
            "\u001b[0;32m/usr/local/lib/python3.8/dist-packages/sklearn/base.py\u001b[0m in \u001b[0;36mclone\u001b[0;34m(estimator, safe)\u001b[0m\n\u001b[1;32m     82\u001b[0m \u001b[0;34m\u001b[0m\u001b[0m\n\u001b[1;32m     83\u001b[0m     \u001b[0mklass\u001b[0m \u001b[0;34m=\u001b[0m \u001b[0mestimator\u001b[0m\u001b[0;34m.\u001b[0m\u001b[0m__class__\u001b[0m\u001b[0;34m\u001b[0m\u001b[0;34m\u001b[0m\u001b[0m\n\u001b[0;32m---> 84\u001b[0;31m     \u001b[0mnew_object_params\u001b[0m \u001b[0;34m=\u001b[0m \u001b[0mestimator\u001b[0m\u001b[0;34m.\u001b[0m\u001b[0mget_params\u001b[0m\u001b[0;34m(\u001b[0m\u001b[0mdeep\u001b[0m\u001b[0;34m=\u001b[0m\u001b[0;32mFalse\u001b[0m\u001b[0;34m)\u001b[0m\u001b[0;34m\u001b[0m\u001b[0;34m\u001b[0m\u001b[0m\n\u001b[0m\u001b[1;32m     85\u001b[0m     \u001b[0;32mfor\u001b[0m \u001b[0mname\u001b[0m\u001b[0;34m,\u001b[0m \u001b[0mparam\u001b[0m \u001b[0;32min\u001b[0m \u001b[0mnew_object_params\u001b[0m\u001b[0;34m.\u001b[0m\u001b[0mitems\u001b[0m\u001b[0;34m(\u001b[0m\u001b[0;34m)\u001b[0m\u001b[0;34m:\u001b[0m\u001b[0;34m\u001b[0m\u001b[0;34m\u001b[0m\u001b[0m\n\u001b[1;32m     86\u001b[0m         \u001b[0mnew_object_params\u001b[0m\u001b[0;34m[\u001b[0m\u001b[0mname\u001b[0m\u001b[0;34m]\u001b[0m \u001b[0;34m=\u001b[0m \u001b[0mclone\u001b[0m\u001b[0;34m(\u001b[0m\u001b[0mparam\u001b[0m\u001b[0;34m,\u001b[0m \u001b[0msafe\u001b[0m\u001b[0;34m=\u001b[0m\u001b[0;32mFalse\u001b[0m\u001b[0;34m)\u001b[0m\u001b[0;34m\u001b[0m\u001b[0;34m\u001b[0m\u001b[0m\n",
            "\u001b[0;32m/usr/local/lib/python3.8/dist-packages/sklearn/base.py\u001b[0m in \u001b[0;36mget_params\u001b[0;34m(self, deep)\u001b[0m\n\u001b[1;32m    207\u001b[0m         \"\"\"\n\u001b[1;32m    208\u001b[0m         \u001b[0mout\u001b[0m \u001b[0;34m=\u001b[0m \u001b[0mdict\u001b[0m\u001b[0;34m(\u001b[0m\u001b[0;34m)\u001b[0m\u001b[0;34m\u001b[0m\u001b[0;34m\u001b[0m\u001b[0m\n\u001b[0;32m--> 209\u001b[0;31m         \u001b[0;32mfor\u001b[0m \u001b[0mkey\u001b[0m \u001b[0;32min\u001b[0m \u001b[0mself\u001b[0m\u001b[0;34m.\u001b[0m\u001b[0m_get_param_names\u001b[0m\u001b[0;34m(\u001b[0m\u001b[0;34m)\u001b[0m\u001b[0;34m:\u001b[0m\u001b[0;34m\u001b[0m\u001b[0;34m\u001b[0m\u001b[0m\n\u001b[0m\u001b[1;32m    210\u001b[0m             \u001b[0mvalue\u001b[0m \u001b[0;34m=\u001b[0m \u001b[0mgetattr\u001b[0m\u001b[0;34m(\u001b[0m\u001b[0mself\u001b[0m\u001b[0;34m,\u001b[0m \u001b[0mkey\u001b[0m\u001b[0;34m)\u001b[0m\u001b[0;34m\u001b[0m\u001b[0;34m\u001b[0m\u001b[0m\n\u001b[1;32m    211\u001b[0m             \u001b[0;32mif\u001b[0m \u001b[0mdeep\u001b[0m \u001b[0;32mand\u001b[0m \u001b[0mhasattr\u001b[0m\u001b[0;34m(\u001b[0m\u001b[0mvalue\u001b[0m\u001b[0;34m,\u001b[0m \u001b[0;34m\"get_params\"\u001b[0m\u001b[0;34m)\u001b[0m\u001b[0;34m:\u001b[0m\u001b[0;34m\u001b[0m\u001b[0;34m\u001b[0m\u001b[0m\n",
            "\u001b[0;32m/usr/local/lib/python3.8/dist-packages/sklearn/base.py\u001b[0m in \u001b[0;36m_get_param_names\u001b[0;34m(cls)\u001b[0m\n\u001b[1;32m    172\u001b[0m         \u001b[0;31m# introspect the constructor arguments to find the model parameters\u001b[0m\u001b[0;34m\u001b[0m\u001b[0;34m\u001b[0m\u001b[0;34m\u001b[0m\u001b[0m\n\u001b[1;32m    173\u001b[0m         \u001b[0;31m# to represent\u001b[0m\u001b[0;34m\u001b[0m\u001b[0;34m\u001b[0m\u001b[0;34m\u001b[0m\u001b[0m\n\u001b[0;32m--> 174\u001b[0;31m         \u001b[0minit_signature\u001b[0m \u001b[0;34m=\u001b[0m \u001b[0minspect\u001b[0m\u001b[0;34m.\u001b[0m\u001b[0msignature\u001b[0m\u001b[0;34m(\u001b[0m\u001b[0minit\u001b[0m\u001b[0;34m)\u001b[0m\u001b[0;34m\u001b[0m\u001b[0;34m\u001b[0m\u001b[0m\n\u001b[0m\u001b[1;32m    175\u001b[0m         \u001b[0;31m# Consider the constructor parameters excluding 'self'\u001b[0m\u001b[0;34m\u001b[0m\u001b[0;34m\u001b[0m\u001b[0;34m\u001b[0m\u001b[0m\n\u001b[1;32m    176\u001b[0m         parameters = [\n",
            "\u001b[0;32m/usr/lib/python3.8/inspect.py\u001b[0m in \u001b[0;36msignature\u001b[0;34m(obj, follow_wrapped)\u001b[0m\n\u001b[1;32m   3103\u001b[0m \u001b[0;32mdef\u001b[0m \u001b[0msignature\u001b[0m\u001b[0;34m(\u001b[0m\u001b[0mobj\u001b[0m\u001b[0;34m,\u001b[0m \u001b[0;34m*\u001b[0m\u001b[0;34m,\u001b[0m \u001b[0mfollow_wrapped\u001b[0m\u001b[0;34m=\u001b[0m\u001b[0;32mTrue\u001b[0m\u001b[0;34m)\u001b[0m\u001b[0;34m:\u001b[0m\u001b[0;34m\u001b[0m\u001b[0;34m\u001b[0m\u001b[0m\n\u001b[1;32m   3104\u001b[0m     \u001b[0;34m\"\"\"Get a signature object for the passed callable.\"\"\"\u001b[0m\u001b[0;34m\u001b[0m\u001b[0;34m\u001b[0m\u001b[0m\n\u001b[0;32m-> 3105\u001b[0;31m     \u001b[0;32mreturn\u001b[0m \u001b[0mSignature\u001b[0m\u001b[0;34m.\u001b[0m\u001b[0mfrom_callable\u001b[0m\u001b[0;34m(\u001b[0m\u001b[0mobj\u001b[0m\u001b[0;34m,\u001b[0m \u001b[0mfollow_wrapped\u001b[0m\u001b[0;34m=\u001b[0m\u001b[0mfollow_wrapped\u001b[0m\u001b[0;34m)\u001b[0m\u001b[0;34m\u001b[0m\u001b[0;34m\u001b[0m\u001b[0m\n\u001b[0m\u001b[1;32m   3106\u001b[0m \u001b[0;34m\u001b[0m\u001b[0m\n\u001b[1;32m   3107\u001b[0m \u001b[0;34m\u001b[0m\u001b[0m\n",
            "\u001b[0;32m/usr/lib/python3.8/inspect.py\u001b[0m in \u001b[0;36mfrom_callable\u001b[0;34m(cls, obj, follow_wrapped)\u001b[0m\n\u001b[1;32m   2852\u001b[0m     \u001b[0;32mdef\u001b[0m \u001b[0mfrom_callable\u001b[0m\u001b[0;34m(\u001b[0m\u001b[0mcls\u001b[0m\u001b[0;34m,\u001b[0m \u001b[0mobj\u001b[0m\u001b[0;34m,\u001b[0m \u001b[0;34m*\u001b[0m\u001b[0;34m,\u001b[0m \u001b[0mfollow_wrapped\u001b[0m\u001b[0;34m=\u001b[0m\u001b[0;32mTrue\u001b[0m\u001b[0;34m)\u001b[0m\u001b[0;34m:\u001b[0m\u001b[0;34m\u001b[0m\u001b[0;34m\u001b[0m\u001b[0m\n\u001b[1;32m   2853\u001b[0m         \u001b[0;34m\"\"\"Constructs Signature for the given callable object.\"\"\"\u001b[0m\u001b[0;34m\u001b[0m\u001b[0;34m\u001b[0m\u001b[0m\n\u001b[0;32m-> 2854\u001b[0;31m         return _signature_from_callable(obj, sigcls=cls,\n\u001b[0m\u001b[1;32m   2855\u001b[0m                                         follow_wrapper_chains=follow_wrapped)\n\u001b[1;32m   2856\u001b[0m \u001b[0;34m\u001b[0m\u001b[0m\n",
            "\u001b[0;32m/usr/lib/python3.8/inspect.py\u001b[0m in \u001b[0;36m_signature_from_callable\u001b[0;34m(obj, follow_wrapper_chains, skip_bound_arg, sigcls)\u001b[0m\n\u001b[1;32m   2302\u001b[0m         \u001b[0;31m# If it's a pure Python function, or an object that is duck type\u001b[0m\u001b[0;34m\u001b[0m\u001b[0;34m\u001b[0m\u001b[0;34m\u001b[0m\u001b[0m\n\u001b[1;32m   2303\u001b[0m         \u001b[0;31m# of a Python function (Cython functions, for instance), then:\u001b[0m\u001b[0;34m\u001b[0m\u001b[0;34m\u001b[0m\u001b[0;34m\u001b[0m\u001b[0m\n\u001b[0;32m-> 2304\u001b[0;31m         return _signature_from_function(sigcls, obj,\n\u001b[0m\u001b[1;32m   2305\u001b[0m                                         skip_bound_arg=skip_bound_arg)\n\u001b[1;32m   2306\u001b[0m \u001b[0;34m\u001b[0m\u001b[0m\n",
            "\u001b[0;32m/usr/lib/python3.8/inspect.py\u001b[0m in \u001b[0;36m_signature_from_function\u001b[0;34m(cls, func, skip_bound_arg)\u001b[0m\n\u001b[1;32m   2195\u001b[0m \u001b[0;34m\u001b[0m\u001b[0m\n\u001b[1;32m   2196\u001b[0m         \u001b[0mannotation\u001b[0m \u001b[0;34m=\u001b[0m \u001b[0mannotations\u001b[0m\u001b[0;34m.\u001b[0m\u001b[0mget\u001b[0m\u001b[0;34m(\u001b[0m\u001b[0mname\u001b[0m\u001b[0;34m,\u001b[0m \u001b[0m_empty\u001b[0m\u001b[0;34m)\u001b[0m\u001b[0;34m\u001b[0m\u001b[0;34m\u001b[0m\u001b[0m\n\u001b[0;32m-> 2197\u001b[0;31m         parameters.append(Parameter(name, annotation=annotation,\n\u001b[0m\u001b[1;32m   2198\u001b[0m                                     \u001b[0mkind\u001b[0m\u001b[0;34m=\u001b[0m\u001b[0m_KEYWORD_ONLY\u001b[0m\u001b[0;34m,\u001b[0m\u001b[0;34m\u001b[0m\u001b[0;34m\u001b[0m\u001b[0m\n\u001b[1;32m   2199\u001b[0m                                     default=default))\n",
            "\u001b[0;32m/usr/lib/python3.8/inspect.py\u001b[0m in \u001b[0;36m__init__\u001b[0;34m(self, name, kind, default, annotation)\u001b[0m\n\u001b[1;32m   2488\u001b[0m \u001b[0;34m\u001b[0m\u001b[0m\n\u001b[1;32m   2489\u001b[0m     \u001b[0;32mdef\u001b[0m \u001b[0m__init__\u001b[0m\u001b[0;34m(\u001b[0m\u001b[0mself\u001b[0m\u001b[0;34m,\u001b[0m \u001b[0mname\u001b[0m\u001b[0;34m,\u001b[0m \u001b[0mkind\u001b[0m\u001b[0;34m,\u001b[0m \u001b[0;34m*\u001b[0m\u001b[0;34m,\u001b[0m \u001b[0mdefault\u001b[0m\u001b[0;34m=\u001b[0m\u001b[0m_empty\u001b[0m\u001b[0;34m,\u001b[0m \u001b[0mannotation\u001b[0m\u001b[0;34m=\u001b[0m\u001b[0m_empty\u001b[0m\u001b[0;34m)\u001b[0m\u001b[0;34m:\u001b[0m\u001b[0;34m\u001b[0m\u001b[0;34m\u001b[0m\u001b[0m\n\u001b[0;32m-> 2490\u001b[0;31m         \u001b[0;32mtry\u001b[0m\u001b[0;34m:\u001b[0m\u001b[0;34m\u001b[0m\u001b[0;34m\u001b[0m\u001b[0m\n\u001b[0m\u001b[1;32m   2491\u001b[0m             \u001b[0mself\u001b[0m\u001b[0;34m.\u001b[0m\u001b[0m_kind\u001b[0m \u001b[0;34m=\u001b[0m \u001b[0m_ParameterKind\u001b[0m\u001b[0;34m(\u001b[0m\u001b[0mkind\u001b[0m\u001b[0;34m)\u001b[0m\u001b[0;34m\u001b[0m\u001b[0;34m\u001b[0m\u001b[0m\n\u001b[1;32m   2492\u001b[0m         \u001b[0;32mexcept\u001b[0m \u001b[0mValueError\u001b[0m\u001b[0;34m:\u001b[0m\u001b[0;34m\u001b[0m\u001b[0;34m\u001b[0m\u001b[0m\n",
            "\u001b[0;31mKeyboardInterrupt\u001b[0m: "
          ]
        }
      ],
      "source": [
        "# importing Random Forest Algorithm from sklearn:\n",
        "from sklearn.ensemble import RandomForestClassifier\n",
        "\n",
        "# importing 'accuracy_score' from sklearn to store accuracy of Random Forest Algorithm:\n",
        "from sklearn.metrics import accuracy_score\n",
        "\n",
        "# Considering that decision tree can produce various accuracies for multiple cases; we need to capture the max accuracy using a variable\n",
        "max_accuracy = 0\n",
        "\n",
        "# Storing best state in the Random Forest model\n",
        "best_state = 0\n",
        "\n",
        "for state in range(2000):\n",
        "  random_forest_classifier = RandomForestClassifier(random_state=state)\n",
        "  random_forest_classifier.fit(X_train, Y_train)\n",
        "  Y_pred_random_forest = random_forest_classifier.predict(X_test)\n",
        "  accuracy_current_state = round(accuracy_score(Y_pred_random_forest, Y_test)*100, 2)\n",
        "\n",
        "  if (accuracy_current_state > max_accuracy):\n",
        "    max_accuracy = accuracy_current_state\n",
        "    best_state = state\n",
        "\n",
        "\n",
        "print(\"The maximum accuracy is: \", max_accuracy)\n",
        "print(\"The best state for the maximum accuracy is: \", best_state)\n",
        "\n",
        "random_forest_classifier = RandomForestClassifier(random_state=best_state)\n",
        "\n",
        "# fit the training dataset:\n",
        "random_forest_classifier.fit(X_train, Y_train)\n",
        "\n",
        "# Getting the 'Y_pred':\n",
        "Y_pred_random_forest = random_forest_classifier.predict(X_test)\n",
        "\n",
        "# Shape of 'Y_pred':\n",
        "Y_pred_random_forest.shape"
      ]
    },
    {
      "cell_type": "markdown",
      "metadata": {
        "id": "Aawo8FheYs_l"
      },
      "source": [
        "**Accuracy Score of Random Forest Algorithm**"
      ]
    },
    {
      "cell_type": "code",
      "execution_count": null,
      "metadata": {
        "id": "RIOff7DUYs_l"
      },
      "outputs": [],
      "source": [
        "# Accuracy will be rounded up for mathematical clarity and for comparisons:\n",
        "accuracy_score_random_forest = round(accuracy_score(Y_pred_random_forest, Y_test)*100, 4)\n",
        "print(\"The accuracy using Random Forest Algorithm is: \" + str(accuracy_score_random_forest) + \" %\")"
      ]
    },
    {
      "cell_type": "markdown",
      "metadata": {
        "id": "W-JnmF7GjLXi"
      },
      "source": [
        "### **K Nearest Neighbors**\n",
        "The class that the majority of the trees chose is the output of the random forest for classification problems. The mean or average prediction of each individual tree is returned for regression tasks. The tendency of decision trees to overfit their training set is corrected by random decision forests. Although they frequently outperform decision trees, gradient boosted trees are more accurate than random forests. (Source: *Wikipedia*)"
      ]
    },
    {
      "cell_type": "code",
      "execution_count": null,
      "metadata": {
        "id": "3Q3iK4tgjLXp"
      },
      "outputs": [],
      "source": [
        "# importing Random Forest Algorithm from sklearn:\n",
        "from sklearn.ensemble import RandomForestClassifier\n",
        "\n",
        "# importing 'accuracy_score' from sklearn to store accuracy of Random Forest Algorithm:\n",
        "from sklearn.metrics import accuracy_score\n",
        "\n",
        "# Considering that decision tree can produce various accuracies for multiple cases; we need to capture the max accuracy using a variable\n",
        "max_accuracy = 0\n",
        "\n",
        "# Storing best state in the Random Forest model\n",
        "best_state = 0\n",
        "\n",
        "for state in range(2000):\n",
        "  random_forest_classifier = RandomForestClassifier(random_state=state)\n",
        "  random_forest_classifier.fit(X_train, Y_train)\n",
        "  Y_pred_random_forest = random_forest_classifier.predict(X_test)\n",
        "  accuracy_current_state = round(accuracy_score(Y_pred_random_forest, Y_test)*100, 2)\n",
        "\n",
        "  if (accuracy_current_state > max_accuracy):\n",
        "    max_accuracy = accuracy_current_state\n",
        "    best_state = state\n",
        "\n",
        "accuracy_score_knn = max_accuracy\n",
        "print(\"The maximum accuracy is: \", accuracy_score_knn)\n",
        "print(\"The best state for the maximum accuracy is: \", best_state)\n",
        "\n",
        "random_forest_classifier = RandomForestClassifier(random_state=best_state)\n",
        "\n",
        "# fit the training dataset:\n",
        "random_forest_classifier.fit(X_train, Y_train)\n",
        "\n",
        "# Getting the 'Y_pred':\n",
        "Y_pred_random_forest = random_forest_classifier.predict(X_test)\n",
        "\n",
        "# Shape of 'Y_pred':\n",
        "Y_pred_random_forest.shape"
      ]
    },
    {
      "cell_type": "markdown",
      "metadata": {
        "id": "QjGnq9x1jLXp"
      },
      "source": [
        "**Accuracy Score of Random Forest Algorithm**"
      ]
    },
    {
      "cell_type": "code",
      "execution_count": null,
      "metadata": {
        "id": "-N24fAz9jLXq"
      },
      "outputs": [],
      "source": [
        "# Accuracy will be rounded up for mathematical clarity and for comparisons:\n",
        "accuracy_score_random_forest = round(accuracy_score(Y_pred_random_forest, Y_test)*100, 4)\n",
        "print(\"The accuracy using Random Forest Algorithm is: \" + str(accuracy_score_random_forest) + \" %\")"
      ]
    },
    {
      "cell_type": "markdown",
      "metadata": {
        "id": "xD_W2eCF4JDy"
      },
      "source": [
        "### **Neural Network**\n",
        "Artificial neural networks model biological neuron connections as weights between nodes. An excitatory link is represented by a positive weight, whereas an inhibitory connection is represented by a negative weight. Each input is given a weight before being added together. A linear combination is the term used to describe this activity.\n",
        "Finally, an activation function regulates the output's amplitude.\n",
        "For instance, a typical range for acceptable output is between 0 and 1, or it may be between 1 and 1. (Source: *Wikipedia*)"
      ]
    },
    {
      "cell_type": "code",
      "execution_count": null,
      "metadata": {
        "id": "AHAO2YeX4JDz"
      },
      "outputs": [],
      "source": [
        "# importing Random Forest Algorithm from sklearn:\n",
        "from keras.models import Sequential\n",
        "\n",
        "# importing 'accuracy_score' from sklearn to store accuracy of Random Forest Algorithm:\n",
        "from keras.layers import Dense\n",
        "\n",
        "# https://stats.stackexchange.com/a/136542 helped a lot in avoiding overfitting\n",
        "\n",
        "# You can create a Sequential model by passing a list of layers to the Sequential constructor\n",
        "seq_cnn_model = Sequential()\n",
        "\n",
        "# Adding the reLU function non-linearities\n",
        "seq_cnn_model.add(Dense(11,activation='relu',input_dim=13))\n",
        "\n",
        "# Activating the sigmoids function\n",
        "seq_cnn_model.add(Dense(1,activation='sigmoid'))\n",
        "\n",
        "seq_cnn_model.compile(loss='binary_crossentropy',optimizer='adam',metrics=['accuracy'])"
      ]
    },
    {
      "cell_type": "markdown",
      "metadata": {
        "id": "6SJ05qWR4JD1"
      },
      "source": [
        "**Accuracy Score of CNN Algorithm**"
      ]
    },
    {
      "cell_type": "code",
      "execution_count": null,
      "metadata": {
        "id": "9Nxt-B1s4JD2"
      },
      "outputs": [],
      "source": [
        "# Fitting the model for the accuracy\n",
        "seq_cnn_model.fit(X_train, Y_train, epochs=300)\n",
        "\n",
        "# Accuracy will be rounded up for mathematical clarity and for comparisons:\n",
        "Y_Pred_cnn = seq_cnn_model.predict(X_test)\n",
        "\n",
        "rounded = [round(x[0]) for x in Y_Pred_cnn]\n",
        "\n",
        "Y_Pred_cnn = rounded\n",
        "\n",
        "accuracy_score_cnn = round(accuracy_score(Y_Pred_cnn, Y_test)*100, 2)\n",
        "\n",
        "print(\"The accuracy score achieved using Neural Network is: \"+str(accuracy_score_cnn)+\" %\")\n",
        "\n",
        "#Note: Accuracy of 85% can be achieved on the test set, by setting epochs=2000, and number of nodes = 11. "
      ]
    },
    {
      "cell_type": "markdown",
      "metadata": {
        "id": "_RXVEtJHie_X"
      },
      "source": [
        "## **Summary of the Algorithms**\n",
        "In this section, let us analyze the accuracy of all the algorithms. This helps us in analyzing the models and also understand the reason behind the way any algirithm performs on the given dataset and the distinction between the performances.\n",
        "\n",
        "More details on the methods and the reasoning behind their good, poor, or average performance along with the evaluation of the models is captured in detail in the report. "
      ]
    },
    {
      "cell_type": "code",
      "execution_count": null,
      "metadata": {
        "id": "i7c-YSSEkUkC"
      },
      "outputs": [],
      "source": [
        "# Overview of the accuracy of all the algorithms implemented on given dataset\n",
        "\n",
        "accuracy_scores = [accuracy_score_logistic_regression, accuracy_score_naive_bayes, accuracy_score_svm, accuracy_score_knn, accuracy_score_random_forest, accuracy_score_decision_tree, accuracy_score_cnn]\n",
        "ml_algorithms = [\"Logistic Regression\",\"Naive Bayes\",\"Support Vector Machine\",\"K-Nearest Neighbors\",\"Random Forest\", \"Decision Tree\", \"Neural Network\"]    \n",
        "\n",
        "for i in range(len(ml_algorithms)):\n",
        "  print(\"The accuracy score achieved using \"+ ml_algorithms[i] + \" is: \"+ str(accuracy_scores[i])+ \" %\")"
      ]
    },
    {
      "cell_type": "code",
      "execution_count": null,
      "metadata": {
        "id": "9TAN708ml8Mg"
      },
      "outputs": [],
      "source": [
        "# Bar Plot of all the algorithms implemented:\n",
        "sns.set(rc={'figure.figsize':(15, 8)})\n",
        "plt.xlabel(\"Implemented ML Algorithms\")\n",
        "plt.ylabel(\"Accuracy score\")\n",
        "\n",
        "sns.barplot(ml_algorithms,accuracy_scores)"
      ]
    }
  ],
  "metadata": {
    "colab": {
      "provenance": [],
      "collapsed_sections": [
        "54nN9-uSJm1n",
        "GBo5vwrrJtU-",
        "tXd85Br8VJRh",
        "DTel1wpdV9QA",
        "JyUPY86gWRHg",
        "VWAYsUO3XFzU",
        "wAPgN6pNX8ng",
        "4uDrJ9TFZUIw",
        "4Q5Y5j9lmIWL",
        "EATAUeHmpg1S",
        "agB3NAi6qMVE",
        "OBnNj5lSRbeY",
        "5HUNhL5UYs_d",
        "W-JnmF7GjLXi",
        "xD_W2eCF4JDy"
      ],
      "authorship_tag": "ABX9TyOPqoLg2hIyCep0JbiIQyw0",
      "include_colab_link": true
    },
    "kernelspec": {
      "display_name": "Python 3",
      "name": "python3"
    },
    "language_info": {
      "name": "python"
    }
  },
  "nbformat": 4,
  "nbformat_minor": 0
}